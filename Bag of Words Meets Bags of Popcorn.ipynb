{
 "cells": [
  {
   "cell_type": "markdown",
   "metadata": {
    "papermill": {
     "duration": 0.040968,
     "end_time": "2020-12-16T10:04:19.215975",
     "exception": false,
     "start_time": "2020-12-16T10:04:19.175007",
     "status": "completed"
    },
    "tags": []
   },
   "source": [
    "# Bag of Words Meets Bags of Popcorn\n",
    "## Author: Saad Bin Manjur Adit"
   ]
  },
  {
   "cell_type": "markdown",
   "metadata": {
    "papermill": {
     "duration": 0.039533,
     "end_time": "2020-12-16T10:04:19.295619",
     "exception": false,
     "start_time": "2020-12-16T10:04:19.256086",
     "status": "completed"
    },
    "tags": []
   },
   "source": [
    "#### Using Google's Word2Vec for movie reviews"
   ]
  },
  {
   "cell_type": "markdown",
   "metadata": {
    "papermill": {
     "duration": 0.038002,
     "end_time": "2020-12-16T10:04:19.372677",
     "exception": false,
     "start_time": "2020-12-16T10:04:19.334675",
     "status": "completed"
    },
    "tags": []
   },
   "source": [
    "## Importing libraries"
   ]
  },
  {
   "cell_type": "code",
   "execution_count": 1,
   "metadata": {
    "execution": {
     "iopub.execute_input": "2020-12-16T10:04:19.458722Z",
     "iopub.status.busy": "2020-12-16T10:04:19.457939Z",
     "iopub.status.idle": "2020-12-16T10:04:21.731161Z",
     "shell.execute_reply": "2020-12-16T10:04:21.730303Z"
    },
    "papermill": {
     "duration": 2.320564,
     "end_time": "2020-12-16T10:04:21.731289",
     "exception": false,
     "start_time": "2020-12-16T10:04:19.410725",
     "status": "completed"
    },
    "tags": []
   },
   "outputs": [],
   "source": [
    "#Librarises\n",
    "import pandas as pd  #data processing and data level operation\n",
    "import numpy as np  # Linear Algebra\n",
    "import os, re\n",
    "import string\n",
    "import nltk \n",
    "from nltk.corpus import stopwords\n",
    "\n",
    "#Visualization libraries\n",
    "import matplotlib.pyplot as plt\n",
    "import seaborn as sns\n",
    "from wordcloud import WordCloud,STOPWORDS\n",
    "\n",
    "%matplotlib inline\n",
    "###For downlaod the nltk\n",
    "########nltk.download()"
   ]
  },
  {
   "cell_type": "code",
   "execution_count": 2,
   "metadata": {
    "execution": {
     "iopub.execute_input": "2020-12-16T10:04:21.830265Z",
     "iopub.status.busy": "2020-12-16T10:04:21.829499Z",
     "iopub.status.idle": "2020-12-16T10:04:23.586522Z",
     "shell.execute_reply": "2020-12-16T10:04:23.587349Z"
    },
    "papermill": {
     "duration": 1.81731,
     "end_time": "2020-12-16T10:04:23.587588",
     "exception": false,
     "start_time": "2020-12-16T10:04:21.770278",
     "status": "completed"
    },
    "tags": []
   },
   "outputs": [
    {
     "name": "stdout",
     "output_type": "stream",
     "text": [
      "current workind directory ====  /kaggle/working\n"
     ]
    },
    {
     "data": {
      "text/plain": [
       "((25000, 3), (25000, 2))"
      ]
     },
     "execution_count": 2,
     "metadata": {},
     "output_type": "execute_result"
    }
   ],
   "source": [
    "#Current working directory\n",
    "print('current workind directory ==== ',os.getcwd())\n",
    "\n",
    "#Loading data\n",
    "train = pd.read_csv('../input/movie-reviews-dataset/labeledTrainData.tsv',delimiter = '\\t')\n",
    "test = pd.read_csv('../input/movie-reviews-dataset/testData.tsv',delimiter = '\\t')\n",
    "\n",
    "train.shape, test.shape"
   ]
  },
  {
   "cell_type": "code",
   "execution_count": 3,
   "metadata": {
    "execution": {
     "iopub.execute_input": "2020-12-16T10:04:23.724927Z",
     "iopub.status.busy": "2020-12-16T10:04:23.720041Z",
     "iopub.status.idle": "2020-12-16T10:04:23.744621Z",
     "shell.execute_reply": "2020-12-16T10:04:23.743325Z"
    },
    "papermill": {
     "duration": 0.093142,
     "end_time": "2020-12-16T10:04:23.745323",
     "exception": false,
     "start_time": "2020-12-16T10:04:23.652181",
     "status": "completed"
    },
    "tags": []
   },
   "outputs": [
    {
     "data": {
      "text/html": [
       "<div>\n",
       "<style scoped>\n",
       "    .dataframe tbody tr th:only-of-type {\n",
       "        vertical-align: middle;\n",
       "    }\n",
       "\n",
       "    .dataframe tbody tr th {\n",
       "        vertical-align: top;\n",
       "    }\n",
       "\n",
       "    .dataframe thead th {\n",
       "        text-align: right;\n",
       "    }\n",
       "</style>\n",
       "<table border=\"1\" class=\"dataframe\">\n",
       "  <thead>\n",
       "    <tr style=\"text-align: right;\">\n",
       "      <th></th>\n",
       "      <th>id</th>\n",
       "      <th>sentiment</th>\n",
       "      <th>review</th>\n",
       "    </tr>\n",
       "  </thead>\n",
       "  <tbody>\n",
       "    <tr>\n",
       "      <th>0</th>\n",
       "      <td>5814_8</td>\n",
       "      <td>1</td>\n",
       "      <td>With all this stuff going down at the moment w...</td>\n",
       "    </tr>\n",
       "    <tr>\n",
       "      <th>1</th>\n",
       "      <td>2381_9</td>\n",
       "      <td>1</td>\n",
       "      <td>\\The Classic War of the Worlds\\\" by Timothy Hi...</td>\n",
       "    </tr>\n",
       "    <tr>\n",
       "      <th>2</th>\n",
       "      <td>7759_3</td>\n",
       "      <td>0</td>\n",
       "      <td>The film starts with a manager (Nicholas Bell)...</td>\n",
       "    </tr>\n",
       "    <tr>\n",
       "      <th>3</th>\n",
       "      <td>3630_4</td>\n",
       "      <td>0</td>\n",
       "      <td>It must be assumed that those who praised this...</td>\n",
       "    </tr>\n",
       "    <tr>\n",
       "      <th>4</th>\n",
       "      <td>9495_8</td>\n",
       "      <td>1</td>\n",
       "      <td>Superbly trashy and wondrously unpretentious 8...</td>\n",
       "    </tr>\n",
       "  </tbody>\n",
       "</table>\n",
       "</div>"
      ],
      "text/plain": [
       "       id  sentiment                                             review\n",
       "0  5814_8          1  With all this stuff going down at the moment w...\n",
       "1  2381_9          1  \\The Classic War of the Worlds\\\" by Timothy Hi...\n",
       "2  7759_3          0  The film starts with a manager (Nicholas Bell)...\n",
       "3  3630_4          0  It must be assumed that those who praised this...\n",
       "4  9495_8          1  Superbly trashy and wondrously unpretentious 8..."
      ]
     },
     "execution_count": 3,
     "metadata": {},
     "output_type": "execute_result"
    }
   ],
   "source": [
    "train.head()"
   ]
  },
  {
   "cell_type": "code",
   "execution_count": 4,
   "metadata": {
    "execution": {
     "iopub.execute_input": "2020-12-16T10:04:23.842589Z",
     "iopub.status.busy": "2020-12-16T10:04:23.841612Z",
     "iopub.status.idle": "2020-12-16T10:04:23.846046Z",
     "shell.execute_reply": "2020-12-16T10:04:23.845319Z"
    },
    "papermill": {
     "duration": 0.055136,
     "end_time": "2020-12-16T10:04:23.846177",
     "exception": false,
     "start_time": "2020-12-16T10:04:23.791041",
     "status": "completed"
    },
    "tags": []
   },
   "outputs": [
    {
     "data": {
      "text/plain": [
       "\"With all this stuff going down at the moment with MJ i've started listening to his music, watching the odd documentary here and there, watched The Wiz and watched Moonwalker again. Maybe i just want to get a certain insight into this guy who i thought was really cool in the eighties just to maybe make up my mind whether he is guilty or innocent. Moonwalker is part biography, part feature film which i remember going to see at the cinema when it was originally released. Some of it has subtle messages about MJ's feeling towards the press and also the obvious message of drugs are bad m'kay.<br /><br />Visually impressive but of course this is all about Michael Jackson so unless you remotely like MJ in anyway then you are going to hate this and find it boring. Some may call MJ an egotist for consenting to the making of this movie BUT MJ and most of his fans would say that he made it for the fans which if true is really nice of him.<br /><br />The actual feature film bit when it finally starts is only on for 20 minutes or so excluding the Smooth Criminal sequence and Joe Pesci is convincing as a psychopathic all powerful drug lord. Why he wants MJ dead so bad is beyond me. Because MJ overheard his plans? Nah, Joe Pesci's character ranted that he wanted people to know it is he who is supplying drugs etc so i dunno, maybe he just hates MJ's music.<br /><br />Lots of cool things in this like MJ turning into a car and a robot and the whole Speed Demon sequence. Also, the director must have had the patience of a saint when it came to filming the kiddy Bad sequence as usually directors hate working with one kid let alone a whole bunch of them performing a complex dance scene.<br /><br />Bottom line, this movie is for people who like MJ on one level or another (which i think is most people). If not, then stay away. It does try and give off a wholesome message and ironically MJ's bestest buddy in this movie is a girl! Michael Jackson is truly one of the most talented people ever to grace this planet but is he guilty? Well, with all the attention i've gave this subject....hmmm well i don't know because people can be different behind closed doors, i know this for a fact. He is either an extremely nice but stupid guy or one of the most sickest liars. I hope he is not the latter.\""
      ]
     },
     "execution_count": 4,
     "metadata": {},
     "output_type": "execute_result"
    }
   ],
   "source": [
    "train['review'][0]"
   ]
  },
  {
   "cell_type": "code",
   "execution_count": 5,
   "metadata": {
    "execution": {
     "iopub.execute_input": "2020-12-16T10:04:23.934687Z",
     "iopub.status.busy": "2020-12-16T10:04:23.933914Z",
     "iopub.status.idle": "2020-12-16T10:04:23.945816Z",
     "shell.execute_reply": "2020-12-16T10:04:23.945098Z"
    },
    "papermill": {
     "duration": 0.058327,
     "end_time": "2020-12-16T10:04:23.945983",
     "exception": false,
     "start_time": "2020-12-16T10:04:23.887656",
     "status": "completed"
    },
    "tags": []
   },
   "outputs": [
    {
     "data": {
      "text/html": [
       "<div>\n",
       "<style scoped>\n",
       "    .dataframe tbody tr th:only-of-type {\n",
       "        vertical-align: middle;\n",
       "    }\n",
       "\n",
       "    .dataframe tbody tr th {\n",
       "        vertical-align: top;\n",
       "    }\n",
       "\n",
       "    .dataframe thead th {\n",
       "        text-align: right;\n",
       "    }\n",
       "</style>\n",
       "<table border=\"1\" class=\"dataframe\">\n",
       "  <thead>\n",
       "    <tr style=\"text-align: right;\">\n",
       "      <th></th>\n",
       "      <th>id</th>\n",
       "      <th>review</th>\n",
       "    </tr>\n",
       "  </thead>\n",
       "  <tbody>\n",
       "    <tr>\n",
       "      <th>0</th>\n",
       "      <td>12311_10</td>\n",
       "      <td>Naturally in a film who's main themes are of m...</td>\n",
       "    </tr>\n",
       "    <tr>\n",
       "      <th>1</th>\n",
       "      <td>8348_2</td>\n",
       "      <td>This movie is a disaster within a disaster fil...</td>\n",
       "    </tr>\n",
       "    <tr>\n",
       "      <th>2</th>\n",
       "      <td>5828_4</td>\n",
       "      <td>All in all, this is a movie for kids. We saw i...</td>\n",
       "    </tr>\n",
       "    <tr>\n",
       "      <th>3</th>\n",
       "      <td>7186_2</td>\n",
       "      <td>Afraid of the Dark left me with the impression...</td>\n",
       "    </tr>\n",
       "    <tr>\n",
       "      <th>4</th>\n",
       "      <td>12128_7</td>\n",
       "      <td>A very accurate depiction of small time mob li...</td>\n",
       "    </tr>\n",
       "  </tbody>\n",
       "</table>\n",
       "</div>"
      ],
      "text/plain": [
       "         id                                             review\n",
       "0  12311_10  Naturally in a film who's main themes are of m...\n",
       "1    8348_2  This movie is a disaster within a disaster fil...\n",
       "2    5828_4  All in all, this is a movie for kids. We saw i...\n",
       "3    7186_2  Afraid of the Dark left me with the impression...\n",
       "4   12128_7  A very accurate depiction of small time mob li..."
      ]
     },
     "execution_count": 5,
     "metadata": {},
     "output_type": "execute_result"
    }
   ],
   "source": [
    "test.head()"
   ]
  },
  {
   "cell_type": "code",
   "execution_count": 6,
   "metadata": {
    "execution": {
     "iopub.execute_input": "2020-12-16T10:04:24.036706Z",
     "iopub.status.busy": "2020-12-16T10:04:24.035610Z",
     "iopub.status.idle": "2020-12-16T10:04:24.041725Z",
     "shell.execute_reply": "2020-12-16T10:04:24.042492Z"
    },
    "papermill": {
     "duration": 0.053502,
     "end_time": "2020-12-16T10:04:24.042659",
     "exception": false,
     "start_time": "2020-12-16T10:04:23.989157",
     "status": "completed"
    },
    "tags": []
   },
   "outputs": [
    {
     "data": {
      "text/plain": [
       "\"Naturally in a film who's main themes are of mortality, nostalgia, and loss of innocence it is perhaps not surprising that it is rated more highly by older viewers than younger ones. However there is a craftsmanship and completeness to the film which anyone can enjoy. The pace is steady and constant, the characters full and engaging, the relationships and interactions natural showing that you do not need floods of tears to show emotion, screams to show fear, shouting to show dispute or violence to show anger. Naturally Joyce's short story lends the film a ready made structure as perfect as a polished diamond, but the small changes Huston makes such as the inclusion of the poem fit in neatly. It is truly a masterpiece of tact, subtlety and overwhelming beauty.\""
      ]
     },
     "execution_count": 6,
     "metadata": {},
     "output_type": "execute_result"
    }
   ],
   "source": [
    "test['review'][0]"
   ]
  },
  {
   "cell_type": "code",
   "execution_count": 7,
   "metadata": {
    "execution": {
     "iopub.execute_input": "2020-12-16T10:04:24.130254Z",
     "iopub.status.busy": "2020-12-16T10:04:24.129470Z",
     "iopub.status.idle": "2020-12-16T10:04:24.166598Z",
     "shell.execute_reply": "2020-12-16T10:04:24.165934Z"
    },
    "papermill": {
     "duration": 0.081666,
     "end_time": "2020-12-16T10:04:24.166738",
     "exception": false,
     "start_time": "2020-12-16T10:04:24.085072",
     "status": "completed"
    },
    "tags": []
   },
   "outputs": [
    {
     "name": "stdout",
     "output_type": "stream",
     "text": [
      "number of rows for sentiment 1: 12500\n",
      "number of rows for sentiment 0: 12500\n"
     ]
    }
   ],
   "source": [
    "print (\"number of rows for sentiment 1: {}\".format(len(train[train.sentiment == 1])))\n",
    "print ( \"number of rows for sentiment 0: {}\".format(len(train[train.sentiment == 0])))"
   ]
  },
  {
   "cell_type": "markdown",
   "metadata": {
    "papermill": {
     "duration": 0.044924,
     "end_time": "2020-12-16T10:04:24.261474",
     "exception": false,
     "start_time": "2020-12-16T10:04:24.216550",
     "status": "completed"
    },
    "tags": []
   },
   "source": [
    "There is equal distribution of data"
   ]
  },
  {
   "cell_type": "code",
   "execution_count": 8,
   "metadata": {
    "execution": {
     "iopub.execute_input": "2020-12-16T10:04:24.358481Z",
     "iopub.status.busy": "2020-12-16T10:04:24.357750Z",
     "iopub.status.idle": "2020-12-16T10:04:24.473332Z",
     "shell.execute_reply": "2020-12-16T10:04:24.472632Z"
    },
    "papermill": {
     "duration": 0.167971,
     "end_time": "2020-12-16T10:04:24.473454",
     "exception": false,
     "start_time": "2020-12-16T10:04:24.305483",
     "status": "completed"
    },
    "tags": []
   },
   "outputs": [
    {
     "data": {
      "text/html": [
       "<div>\n",
       "<style scoped>\n",
       "    .dataframe tbody tr th:only-of-type {\n",
       "        vertical-align: middle;\n",
       "    }\n",
       "\n",
       "    .dataframe tbody tr th {\n",
       "        vertical-align: top;\n",
       "    }\n",
       "\n",
       "    .dataframe thead th {\n",
       "        text-align: right;\n",
       "    }\n",
       "</style>\n",
       "<table border=\"1\" class=\"dataframe\">\n",
       "  <thead>\n",
       "    <tr style=\"text-align: right;\">\n",
       "      <th></th>\n",
       "      <th>sentiment</th>\n",
       "      <th>0</th>\n",
       "      <th>1</th>\n",
       "    </tr>\n",
       "  </thead>\n",
       "  <tbody>\n",
       "    <tr>\n",
       "      <th rowspan=\"4\" valign=\"top\">id</th>\n",
       "      <th>count</th>\n",
       "      <td>12500</td>\n",
       "      <td>12500</td>\n",
       "    </tr>\n",
       "    <tr>\n",
       "      <th>unique</th>\n",
       "      <td>12500</td>\n",
       "      <td>12500</td>\n",
       "    </tr>\n",
       "    <tr>\n",
       "      <th>top</th>\n",
       "      <td>7348_3</td>\n",
       "      <td>6682_10</td>\n",
       "    </tr>\n",
       "    <tr>\n",
       "      <th>freq</th>\n",
       "      <td>1</td>\n",
       "      <td>1</td>\n",
       "    </tr>\n",
       "    <tr>\n",
       "      <th rowspan=\"4\" valign=\"top\">review</th>\n",
       "      <th>count</th>\n",
       "      <td>12500</td>\n",
       "      <td>12500</td>\n",
       "    </tr>\n",
       "    <tr>\n",
       "      <th>unique</th>\n",
       "      <td>12432</td>\n",
       "      <td>12472</td>\n",
       "    </tr>\n",
       "    <tr>\n",
       "      <th>top</th>\n",
       "      <td>This show comes up with interesting locations ...</td>\n",
       "      <td>Red Skelton was still another major star who m...</td>\n",
       "    </tr>\n",
       "    <tr>\n",
       "      <th>freq</th>\n",
       "      <td>3</td>\n",
       "      <td>2</td>\n",
       "    </tr>\n",
       "  </tbody>\n",
       "</table>\n",
       "</div>"
      ],
      "text/plain": [
       "sentiment                                                      0  \\\n",
       "id     count                                               12500   \n",
       "       unique                                              12500   \n",
       "       top                                                7348_3   \n",
       "       freq                                                    1   \n",
       "review count                                               12500   \n",
       "       unique                                              12432   \n",
       "       top     This show comes up with interesting locations ...   \n",
       "       freq                                                    3   \n",
       "\n",
       "sentiment                                                      1  \n",
       "id     count                                               12500  \n",
       "       unique                                              12500  \n",
       "       top                                               6682_10  \n",
       "       freq                                                    1  \n",
       "review count                                               12500  \n",
       "       unique                                              12472  \n",
       "       top     Red Skelton was still another major star who m...  \n",
       "       freq                                                    2  "
      ]
     },
     "execution_count": 8,
     "metadata": {},
     "output_type": "execute_result"
    }
   ],
   "source": [
    "train.groupby('sentiment').describe().transpose()"
   ]
  },
  {
   "cell_type": "code",
   "execution_count": 9,
   "metadata": {
    "execution": {
     "iopub.execute_input": "2020-12-16T10:04:24.589617Z",
     "iopub.status.busy": "2020-12-16T10:04:24.584315Z",
     "iopub.status.idle": "2020-12-16T10:04:24.599228Z",
     "shell.execute_reply": "2020-12-16T10:04:24.598484Z"
    },
    "papermill": {
     "duration": 0.080938,
     "end_time": "2020-12-16T10:04:24.599362",
     "exception": false,
     "start_time": "2020-12-16T10:04:24.518424",
     "status": "completed"
    },
    "tags": []
   },
   "outputs": [
    {
     "data": {
      "text/html": [
       "<div>\n",
       "<style scoped>\n",
       "    .dataframe tbody tr th:only-of-type {\n",
       "        vertical-align: middle;\n",
       "    }\n",
       "\n",
       "    .dataframe tbody tr th {\n",
       "        vertical-align: top;\n",
       "    }\n",
       "\n",
       "    .dataframe thead th {\n",
       "        text-align: right;\n",
       "    }\n",
       "</style>\n",
       "<table border=\"1\" class=\"dataframe\">\n",
       "  <thead>\n",
       "    <tr style=\"text-align: right;\">\n",
       "      <th></th>\n",
       "      <th>id</th>\n",
       "      <th>sentiment</th>\n",
       "      <th>review</th>\n",
       "      <th>length</th>\n",
       "    </tr>\n",
       "  </thead>\n",
       "  <tbody>\n",
       "    <tr>\n",
       "      <th>0</th>\n",
       "      <td>5814_8</td>\n",
       "      <td>1</td>\n",
       "      <td>With all this stuff going down at the moment w...</td>\n",
       "      <td>2302</td>\n",
       "    </tr>\n",
       "    <tr>\n",
       "      <th>1</th>\n",
       "      <td>2381_9</td>\n",
       "      <td>1</td>\n",
       "      <td>\\The Classic War of the Worlds\\\" by Timothy Hi...</td>\n",
       "      <td>946</td>\n",
       "    </tr>\n",
       "    <tr>\n",
       "      <th>2</th>\n",
       "      <td>7759_3</td>\n",
       "      <td>0</td>\n",
       "      <td>The film starts with a manager (Nicholas Bell)...</td>\n",
       "      <td>2449</td>\n",
       "    </tr>\n",
       "    <tr>\n",
       "      <th>3</th>\n",
       "      <td>3630_4</td>\n",
       "      <td>0</td>\n",
       "      <td>It must be assumed that those who praised this...</td>\n",
       "      <td>2245</td>\n",
       "    </tr>\n",
       "    <tr>\n",
       "      <th>4</th>\n",
       "      <td>9495_8</td>\n",
       "      <td>1</td>\n",
       "      <td>Superbly trashy and wondrously unpretentious 8...</td>\n",
       "      <td>2231</td>\n",
       "    </tr>\n",
       "  </tbody>\n",
       "</table>\n",
       "</div>"
      ],
      "text/plain": [
       "       id  sentiment                                             review  \\\n",
       "0  5814_8          1  With all this stuff going down at the moment w...   \n",
       "1  2381_9          1  \\The Classic War of the Worlds\\\" by Timothy Hi...   \n",
       "2  7759_3          0  The film starts with a manager (Nicholas Bell)...   \n",
       "3  3630_4          0  It must be assumed that those who praised this...   \n",
       "4  9495_8          1  Superbly trashy and wondrously unpretentious 8...   \n",
       "\n",
       "   length  \n",
       "0    2302  \n",
       "1     946  \n",
       "2    2449  \n",
       "3    2245  \n",
       "4    2231  "
      ]
     },
     "execution_count": 9,
     "metadata": {},
     "output_type": "execute_result"
    }
   ],
   "source": [
    "#Creating a new col\n",
    "train['length'] = train['review'].apply(len)\n",
    "train.head()"
   ]
  },
  {
   "cell_type": "markdown",
   "metadata": {
    "papermill": {
     "duration": 0.0437,
     "end_time": "2020-12-16T10:04:24.687792",
     "exception": false,
     "start_time": "2020-12-16T10:04:24.644092",
     "status": "completed"
    },
    "tags": []
   },
   "source": [
    "## Data Visualization"
   ]
  },
  {
   "cell_type": "code",
   "execution_count": 10,
   "metadata": {
    "execution": {
     "iopub.execute_input": "2020-12-16T10:04:24.782934Z",
     "iopub.status.busy": "2020-12-16T10:04:24.781913Z",
     "iopub.status.idle": "2020-12-16T10:04:25.250209Z",
     "shell.execute_reply": "2020-12-16T10:04:25.249580Z"
    },
    "papermill": {
     "duration": 0.518048,
     "end_time": "2020-12-16T10:04:25.250393",
     "exception": false,
     "start_time": "2020-12-16T10:04:24.732345",
     "status": "completed"
    },
    "tags": []
   },
   "outputs": [
    {
     "data": {
      "text/plain": [
       "<matplotlib.axes._subplots.AxesSubplot at 0x7fcdce56ef10>"
      ]
     },
     "execution_count": 10,
     "metadata": {},
     "output_type": "execute_result"
    },
    {
     "data": {
      "image/png": "[encoded data removed]",
      "text/plain": [
       "<Figure size 432x288 with 1 Axes>"
      ]
     },
     "metadata": {
      "needs_background": "light"
     },
     "output_type": "display_data"
    }
   ],
   "source": [
    "#Histogram of count of letters\n",
    "train['length'].plot.hist(bins = 100)"
   ]
  },
  {
   "cell_type": "code",
   "execution_count": 11,
   "metadata": {
    "execution": {
     "iopub.execute_input": "2020-12-16T10:04:25.349962Z",
     "iopub.status.busy": "2020-12-16T10:04:25.348923Z",
     "iopub.status.idle": "2020-12-16T10:04:25.359919Z",
     "shell.execute_reply": "2020-12-16T10:04:25.360397Z"
    },
    "papermill": {
     "duration": 0.065549,
     "end_time": "2020-12-16T10:04:25.360552",
     "exception": false,
     "start_time": "2020-12-16T10:04:25.295003",
     "status": "completed"
    },
    "tags": []
   },
   "outputs": [
    {
     "data": {
      "text/plain": [
       "count    25000.000000\n",
       "mean      1327.710560\n",
       "std       1005.239246\n",
       "min         52.000000\n",
       "25%        703.000000\n",
       "50%        981.000000\n",
       "75%       1617.000000\n",
       "max      13708.000000\n",
       "Name: length, dtype: float64"
      ]
     },
     "execution_count": 11,
     "metadata": {},
     "output_type": "execute_result"
    }
   ],
   "source": [
    "train.length.describe()"
   ]
  },
  {
   "cell_type": "code",
   "execution_count": 12,
   "metadata": {
    "execution": {
     "iopub.execute_input": "2020-12-16T10:04:25.457714Z",
     "iopub.status.busy": "2020-12-16T10:04:25.456693Z",
     "iopub.status.idle": "2020-12-16T10:04:25.465455Z",
     "shell.execute_reply": "2020-12-16T10:04:25.465984Z"
    },
    "papermill": {
     "duration": 0.059333,
     "end_time": "2020-12-16T10:04:25.466143",
     "exception": false,
     "start_time": "2020-12-16T10:04:25.406810",
     "status": "completed"
    },
    "tags": []
   },
   "outputs": [
    {
     "data": {
      "text/plain": [
       "'Match 1: Tag Team Table Match Bubba Ray and Spike Dudley vs Eddie Guerrero and Chris Benoit Bubba Ray and Spike Dudley started things off with a Tag Team Table Match against Eddie Guerrero and Chris Benoit. According to the rules of the match, both opponents have to go through tables in order to get the win. Benoit and Guerrero heated up early on by taking turns hammering first Spike and then Bubba Ray. A German suplex by Benoit to Bubba took the wind out of the Dudley brother. Spike tried to help his brother, but the referee restrained him while Benoit and Guerrero ganged up on him in the corner. With Benoit stomping away on Bubba, Guerrero set up a table outside. Spike dashed into the ring and somersaulted over the top rope onto Guerrero on the outside! After recovering and taking care of Spike, Guerrero slipped a table into the ring and helped the Wolverine set it up. The tandem then set up for a double superplex from the middle rope which would have put Bubba through the table, but Spike knocked the table over right before his brother came crashing down! Guerrero and Benoit propped another table in the corner and tried to Irish Whip Spike through it, but Bubba dashed in and blocked his brother. Bubba caught fire and lifted both opponents into back body drops! Bubba slammed Guerrero and Spike stomped on the Wolverine from off the top rope. Bubba held Benoit at bay for Spike to soar into the Wassup! headbutt! Shortly after, Benoit latched Spike in the Crossface, but the match continued even after Spike tapped out. Bubba came to his brother\\'s rescue and managed to sprawl Benoit on a table. Bubba leapt from the middle rope, but Benoit moved and sent Bubba crashing through the wood! But because his opponents didn\\'t force him through the table, Bubba was allowed to stay in the match. The first man was eliminated shortly after, though, as Spike put Eddie through a table with a Dudley Dawg from the ring apron to the outside! Benoit put Spike through a table moments later to even the score. Within seconds, Bubba nailed a Bubba Bomb that put Benoit through a table and gave the Dudleys the win! Winner: Bubba Ray and Spike Dudley<br /><br />Match 2: Cruiserweight Championship Jamie Noble vs Billy Kidman Billy Kidman challenged Jamie Noble, who brought Nidia with him to the ring, for the Cruiserweight Championship. Noble and Kidman locked up and tumbled over the ring, but raced back inside and grappled some more. When Kidman thwarted all Noble\\'s moves, Noble fled outside the ring where Nidia gave him some encouragement. The fight spread outside the ring and Noble threw his girlfriend into the challenger. Kidman tossed Nidia aside but was taken down with a modified arm bar. Noble continued to attack Kidman\\'s injured arm back in the ring. Kidman\\'s injured harm hampered his offense, but he continued to battle hard. Noble tried to put Kidman away with a powerbomb but the challenger countered into a facebuster. Kidman went to finish things with a Shooting Star Press, but Noble broke up the attempt. Kidman went for the Shooting Star Press again, but this time Noble just rolled out of harm\\'s way. Noble flipped Kidman into a power bomb soon after and got the pin to retain his WWE Cruiserweight Championship! Winner: Jamie Noble<br /><br />Match 3: European Championship William Regal vs Jeff Hardy William Regal took on Jeff Hardy next in an attempt to win back the European Championship. Jeff catapulted Regal over the top rope then took him down with a hurracanrana off the ring apron. Back in the ring, Jeff hit the Whisper in the wind to knock Regal for a loop. Jeff went for the Swanton Bomb, but Regal got his knees up to hit Jeff with a devastating shot. Jeff managed to surprise Regal with a quick rollup though and got the pin to keep the European Championship! Regal started bawling at seeing Hardy celebrate on his way back up the ramp. Winner: Jeff Hardy<br /><br />Match 4: Chris Jericho vs John Cena Chris Jericho had promised to end John Cena\\'s career in their match at Vengeance, which came up next. Jericho tried to teach Cena a lesson as their match began by suplexing him to the mat. Jericho continued to knock Cena around the ring until his cockiness got the better of him. While on the top rope, Jericho began to showboat and allowed Cena to grab him for a superplex! Cena followed with a tilt-a-whirl slam but was taken down with a nasty dropkick to the gut. The rookie recovered and hit a belly to belly suplex but couldn\\'t put Y2J away. Jericho launched into the Lionsault but Cena dodged the move. Jericho nailed a bulldog and then connected on the Lionsault, but did not go for the cover. He goaded Cena to his feet so he could put on the Walls of Jericho. Cena had other ideas, reversing the move into a pin attempt and getting the 1-2-3! Jericho went berserk after the match. Winner: John Cena<br /><br />Match 5: Intercontinental Championship RVD vs Brock Lesnar via disqualification The Next Big Thing and Mr. Pay-Per-View tangled with the Intercontinental Championship on the line. Brock grabbed the title from the ref and draped it over his shoulder momentarily while glaring at RVD. Van Dam \\'s quickness gave Brock fits early on. The big man rolled out of the ring and kicked the steel steps out of frustration. Brock pulled himself together and began to take charge. With Paul Heyman beaming at ringside, Brock slammed RVD to the hard floor outside the ring. From there, Brock began to overpower RVD, throwing him with ease over the top rope. RVD landed painfully on his back, then had to suffer from having his spine cracked against the steel ring steps. The fight returned to the ring with Brock squeezing RVD around the ribs. RVD broke away and soon after leveled Brock with a kick to the temple. RVD followed with the Rolling Thunder but Brock managed to kick out after a two-count. The fight looked like it might be over soon as RVD went for a Five-Star Frog Splash. Brock, though, hoisted Van Dam onto his shoulder and went for the F-5, but RVD whirled Brock into a DDT and followed with the Frog Splash! He went for the pin, but Heyman pulled the ref from the ring! The ref immediately called for a disqualification and soon traded blows with Heyman! After, RVD leapt onto Brock from the top rope and then threatened to hit the Van Terminator! Heyman grabbed RVD\\'s leg and Brock picked up the champ and this time connected with the F-5 onto a steel chair! Winner: RVD<br /><br />Match 6: Booker T vs the Big Show Booker T faced the Big Show one-on-one next. Show withstood Booker T\\'s kicks and punches and slapped Booker into the corner. After being thrown from the ring, Booker picked up a chair at ringside, but Big Show punched it back into Booker\\'s face. Booker tried to get back into the game by choking Show with a camera cable at ringside. Booker smashed a TV monitor from the Spanish announcers\\' position into Show\\'s skull, then delivered a scissors kick that put both men through the table! Booker crawled back into the ring and Big Show staggered in moments later. Show grabbed Booker\\'s throat but was met by a low blow and a kick to the face. Booker climbed the top rope and nailed a somersaulting leg drop to get the pin! Winner: Booker T<br /><br />Announcement: Triple H entered the ring to a thunderous ovation as fans hoped to learn where The Game would end up competing. Before he could speak, Eric Bishoff stopped The Game to apologize for getting involved in his personal business. If Triple H signed with RAW, Bischoff promised his personal life would never come into play again. Bischoff said he\\'s spent the past two years networking in Hollywood. He said everyone was looking for the next breakout WWE Superstar, and they were all talking about Triple H. Bischoff guaranteed that if Triple H signed with RAW, he\\'d be getting top opportunities coming his way. Stephanie McMahon stepped out to issue her own pitch. She said that because of her personal history with Triple H, the two of them know each other very well. She said the two of them were once unstoppable and they can be again. Bischoff cut her off and begged her to stop. Stephanie cited that Triple H once told her how Bischoff said Triple H had no talent and no charisma. Bischoff said he was young at the time and didn\\'t know what he had, but he still has a lot more experience that Stephanie. The two continued to bicker back and forth, until Triple H stepped up with his microphone. The Game said it would be easy to say \\\\screw you\\\\\" to either one of them. Triple H went to shake Bischoff\\'s hand, but pulled it away. He said he would rather go with the devil he knows, rather than the one he doesn\\'t know. Before he could go any further, though, Shawn Michaels came out to shake things up. HBK said the last thing he wanted to do was cause any trouble. He didn\\'t want to get involved, but he remembered pledging to bring Triple H to the nWo. HBK said there\\'s nobody in the world that Triple H is better friends with. HBK told his friend to imagine the two back together again, making Bischoff\\'s life a living hell. Triple H said that was a tempting offer. He then turned and hugged HBK, making official his switch to RAW! Triple H and HBK left, and Bischoff gloated over his victory. Bischoff said the difference between the two of them is that he\\'s got testicles and she doesn\\'t. Stephanie whacked Bischoff on the side of the head and left!<br /><br />Match 7: Tag Team Championship Match Christian and Lance Storm vs Hollywood Hogan and Edge The match started with loud \\\\\"USA\\\\\" chants and with Hogan shoving Christian through the ropes and out of the ring. The Canadians took over from there. But Edge scored a kick to Christian\\'s head and planted a facebuster on Storm to get the tag to Hogan. Hogan began to Hulk up and soon caught Christian with a big boot and a leg drop! Storm broke up the count and Christian tossed Hogan from the ring where Storm superkicked the icon. Edge tagged in soon after and dropped both opponents. He speared both of them into the corner turnbuckles, but missed a spear on Strom and hit the ref hard instead. Edge nailed a DDT, but the ref was down and could not count. Test raced down and took down Hogan then leveled Edge with a boot. Storm tried to get the pin, but Edge kicked out after two. Riksihi sprinted in to fend off Test, allowing Edge to recover and spear Storm. Christian distracted the ref, though, and Y2J dashed in and clocked Edge with the Tag Team Championship! Storm rolled over and got the pinfall to win the title! Winners and New Tag Team Champions: Christian and Lance Storm<br /><br />Match 8: WWE Undisputed Championship Triple Threat Match. The Rock vs Kurt Angle and the Undertaker Three of WWE\\'s most successful superstars lined up against each other in a Triple Threat Match with the Undisputed Championship hanging in the balance. Taker and The Rock got face to face with Kurt Angle begging for some attention off to the side. He got attention in the form of a beat down form the two other men. Soon after, Taker spilled out of the ring and The Rock brawled with Angle. Angle gave a series of suplexes that took down Rock, but the Great One countered with a DDT that managed a two-count. The fight continued outside the ring with Taker coming to life and clotheslining Angle and repeatedly smacking The Rock. Taker and Rock got into it back into the ring, and Taker dropped The Rock with a sidewalk slam to get a two-count. Rock rebounded, grabbed Taker by the throat and chokeslammed him! Angle broke up the pin attempt that likely would have given The Rock the title. The Rock retaliated by latching on the ankle lock to Kurt Angle. Angle reversed the move and Rock Bottomed the People\\'s Champion. Soon after, The Rock disposed of Angle and hit the People\\'s Elbow on the Undertaker. Angle tried to take advantage by disabling the Great One outside the ring and covering Taker, who kicked out after a two count. Outside the ring, Rock took a big swig from a nearby water bottle and spewed the liquid into Taker\\'s face to blind the champion. Taker didn\\'t stay disabled for long, and managed to overpower Rock and turn his attention to Angle. Taker landed a guillotine leg drop onto Angle, laying on the ring apron. The Rock picked himself up just in time to break up a pin attempt on Kurt Angle. Taker nailed Rock with a DDT and set him up for a chokeslam. ANgle tried sneaking up with a steel chair, but Taker caught on to that tomfoolery and smacked it out of his hands. The referee got caught in the ensuing fire and didn\\'t see Angle knock Taker silly with a steel chair. Angle went to cover Taker as The Rock lay prone, but the Dead Man somehow got his shoulder up. Angle tried to pin Rock, but he too kicked out. The Rock got up and landed Angle in the sharpshooter! Angle looked like he was about to tap, but Taker kicked The Rock out of the submission hold. Taker picked Rock up and crashed him with the Last Ride. While the Dead Man covered him for the win, Angle raced in and picked Taker up in the ankle lock! Taker went delirious with pain, but managed to counter. He picked Angle up for the last ride, but Angle put on a triangle choke! It looked like Taker was about to pass out, but The Rock broke Angle\\'s hold only to find himself caught in the ankle lock. Rock got out of the hold and watched Taker chokeslam Angle. Rocky hit the Rock Bottom, but Taker refused to go down and kicked out. Angle whirled Taker up into the Angle Slam but was Rock Bottomed by the Great One and pinned! Winner and New WWE Champion: The Rock<br /><br />~Finally there is a decent PPV! Lately the PPV weren\\'t very good, but this one was a winner. I give this PPV a A-<br /><br />\"'"
      ]
     },
     "execution_count": 12,
     "metadata": {},
     "output_type": "execute_result"
    }
   ],
   "source": [
    "#train[train['length'] == 13708]['review']\n",
    "train[train['length'] == 13708]['review'].iloc[0]"
   ]
  },
  {
   "cell_type": "code",
   "execution_count": 13,
   "metadata": {
    "execution": {
     "iopub.execute_input": "2020-12-16T10:04:25.566686Z",
     "iopub.status.busy": "2020-12-16T10:04:25.565595Z",
     "iopub.status.idle": "2020-12-16T10:04:26.277418Z",
     "shell.execute_reply": "2020-12-16T10:04:26.277987Z"
    },
    "papermill": {
     "duration": 0.763924,
     "end_time": "2020-12-16T10:04:26.278182",
     "exception": false,
     "start_time": "2020-12-16T10:04:25.514258",
     "status": "completed"
    },
    "tags": []
   },
   "outputs": [
    {
     "data": {
      "text/plain": [
       "array([<matplotlib.axes._subplots.AxesSubplot object at 0x7fcdcfc468d0>,\n",
       "       <matplotlib.axes._subplots.AxesSubplot object at 0x7fcdcc7b8890>],\n",
       "      dtype=object)"
      ]
     },
     "execution_count": 13,
     "metadata": {},
     "output_type": "execute_result"
    },
    {
     "data": {
      "image/png": "[encoded data removed]",
      "text/plain": [
       "<Figure size 864x288 with 2 Axes>"
      ]
     },
     "metadata": {
      "needs_background": "light"
     },
     "output_type": "display_data"
    }
   ],
   "source": [
    "train.hist(column='length', by='sentiment', bins=100,figsize=(12,4))"
   ]
  },
  {
   "cell_type": "markdown",
   "metadata": {
    "papermill": {
     "duration": 0.049149,
     "end_time": "2020-12-16T10:04:26.375576",
     "exception": false,
     "start_time": "2020-12-16T10:04:26.326427",
     "status": "completed"
    },
    "tags": []
   },
   "source": [
    "## Text Preprocessing"
   ]
  },
  {
   "cell_type": "code",
   "execution_count": 14,
   "metadata": {
    "execution": {
     "iopub.execute_input": "2020-12-16T10:04:26.475645Z",
     "iopub.status.busy": "2020-12-16T10:04:26.474578Z",
     "iopub.status.idle": "2020-12-16T10:04:26.726466Z",
     "shell.execute_reply": "2020-12-16T10:04:26.725631Z"
    },
    "papermill": {
     "duration": 0.304085,
     "end_time": "2020-12-16T10:04:26.726599",
     "exception": false,
     "start_time": "2020-12-16T10:04:26.422514",
     "status": "completed"
    },
    "tags": []
   },
   "outputs": [],
   "source": [
    "from bs4 import BeautifulSoup\n",
    "\n",
    "#Creating a function for cleaning of data\n",
    "def clean_text(raw_text):\n",
    "    # 1. remove HTML tags\n",
    "    raw_text = BeautifulSoup(raw_text).get_text() \n",
    "    \n",
    "    # 2. removing all non letters from text\n",
    "    letters_only = re.sub(\"[^a-zA-Z]\", \" \", raw_text) \n",
    "    \n",
    "    # 3. Convert to lower case, split into individual words\n",
    "    words = letters_only.lower().split()                           \n",
    "    \n",
    "    # 4. Create variable which contain set of stopwords\n",
    "    stops = set(stopwords.words(\"english\"))                  \n",
    "    \n",
    "    # 5. Remove stop word & returning   \n",
    "    return [w for w in words if not w in stops]"
   ]
  },
  {
   "cell_type": "code",
   "execution_count": 15,
   "metadata": {
    "execution": {
     "iopub.execute_input": "2020-12-16T10:04:26.837269Z",
     "iopub.status.busy": "2020-12-16T10:04:26.836312Z",
     "iopub.status.idle": "2020-12-16T10:04:50.031573Z",
     "shell.execute_reply": "2020-12-16T10:04:50.032065Z"
    },
    "papermill": {
     "duration": 23.254995,
     "end_time": "2020-12-16T10:04:50.032229",
     "exception": false,
     "start_time": "2020-12-16T10:04:26.777234",
     "status": "completed"
    },
    "tags": []
   },
   "outputs": [
    {
     "data": {
      "text/html": [
       "<div>\n",
       "<style scoped>\n",
       "    .dataframe tbody tr th:only-of-type {\n",
       "        vertical-align: middle;\n",
       "    }\n",
       "\n",
       "    .dataframe tbody tr th {\n",
       "        vertical-align: top;\n",
       "    }\n",
       "\n",
       "    .dataframe thead th {\n",
       "        text-align: right;\n",
       "    }\n",
       "</style>\n",
       "<table border=\"1\" class=\"dataframe\">\n",
       "  <thead>\n",
       "    <tr style=\"text-align: right;\">\n",
       "      <th></th>\n",
       "      <th>id</th>\n",
       "      <th>sentiment</th>\n",
       "      <th>review</th>\n",
       "      <th>length</th>\n",
       "      <th>clean_review</th>\n",
       "      <th>length_clean_review</th>\n",
       "    </tr>\n",
       "  </thead>\n",
       "  <tbody>\n",
       "    <tr>\n",
       "      <th>0</th>\n",
       "      <td>5814_8</td>\n",
       "      <td>1</td>\n",
       "      <td>With all this stuff going down at the moment w...</td>\n",
       "      <td>2302</td>\n",
       "      <td>[stuff, going, moment, mj, started, listening,...</td>\n",
       "      <td>219</td>\n",
       "    </tr>\n",
       "    <tr>\n",
       "      <th>1</th>\n",
       "      <td>2381_9</td>\n",
       "      <td>1</td>\n",
       "      <td>\\The Classic War of the Worlds\\\" by Timothy Hi...</td>\n",
       "      <td>946</td>\n",
       "      <td>[classic, war, worlds, timothy, hines, enterta...</td>\n",
       "      <td>84</td>\n",
       "    </tr>\n",
       "    <tr>\n",
       "      <th>2</th>\n",
       "      <td>7759_3</td>\n",
       "      <td>0</td>\n",
       "      <td>The film starts with a manager (Nicholas Bell)...</td>\n",
       "      <td>2449</td>\n",
       "      <td>[film, starts, manager, nicholas, bell, giving...</td>\n",
       "      <td>240</td>\n",
       "    </tr>\n",
       "    <tr>\n",
       "      <th>3</th>\n",
       "      <td>3630_4</td>\n",
       "      <td>0</td>\n",
       "      <td>It must be assumed that those who praised this...</td>\n",
       "      <td>2245</td>\n",
       "      <td>[must, assumed, praised, film, greatest, filme...</td>\n",
       "      <td>189</td>\n",
       "    </tr>\n",
       "    <tr>\n",
       "      <th>4</th>\n",
       "      <td>9495_8</td>\n",
       "      <td>1</td>\n",
       "      <td>Superbly trashy and wondrously unpretentious 8...</td>\n",
       "      <td>2231</td>\n",
       "      <td>[superbly, trashy, wondrously, unpretentious, ...</td>\n",
       "      <td>210</td>\n",
       "    </tr>\n",
       "  </tbody>\n",
       "</table>\n",
       "</div>"
      ],
      "text/plain": [
       "       id  sentiment                                             review  \\\n",
       "0  5814_8          1  With all this stuff going down at the moment w...   \n",
       "1  2381_9          1  \\The Classic War of the Worlds\\\" by Timothy Hi...   \n",
       "2  7759_3          0  The film starts with a manager (Nicholas Bell)...   \n",
       "3  3630_4          0  It must be assumed that those who praised this...   \n",
       "4  9495_8          1  Superbly trashy and wondrously unpretentious 8...   \n",
       "\n",
       "   length                                       clean_review  \\\n",
       "0    2302  [stuff, going, moment, mj, started, listening,...   \n",
       "1     946  [classic, war, worlds, timothy, hines, enterta...   \n",
       "2    2449  [film, starts, manager, nicholas, bell, giving...   \n",
       "3    2245  [must, assumed, praised, film, greatest, filme...   \n",
       "4    2231  [superbly, trashy, wondrously, unpretentious, ...   \n",
       "\n",
       "   length_clean_review  \n",
       "0                  219  \n",
       "1                   84  \n",
       "2                  240  \n",
       "3                  189  \n",
       "4                  210  "
      ]
     },
     "execution_count": 15,
     "metadata": {},
     "output_type": "execute_result"
    }
   ],
   "source": [
    "#Cleaning review and also adding a new col as its len count of words\n",
    "train['clean_review'] = train['review'].apply(clean_text)\n",
    "train['length_clean_review'] = train['clean_review'].apply(len)\n",
    "train.head()"
   ]
  },
  {
   "cell_type": "code",
   "execution_count": 16,
   "metadata": {
    "execution": {
     "iopub.execute_input": "2020-12-16T10:04:50.145124Z",
     "iopub.status.busy": "2020-12-16T10:04:50.143944Z",
     "iopub.status.idle": "2020-12-16T10:04:50.170300Z",
     "shell.execute_reply": "2020-12-16T10:04:50.170941Z"
    },
    "papermill": {
     "duration": 0.088644,
     "end_time": "2020-12-16T10:04:50.171142",
     "exception": false,
     "start_time": "2020-12-16T10:04:50.082498",
     "status": "completed"
    },
    "tags": []
   },
   "outputs": [
    {
     "data": {
      "text/html": [
       "<div>\n",
       "<style scoped>\n",
       "    .dataframe tbody tr th:only-of-type {\n",
       "        vertical-align: middle;\n",
       "    }\n",
       "\n",
       "    .dataframe tbody tr th {\n",
       "        vertical-align: top;\n",
       "    }\n",
       "\n",
       "    .dataframe thead th {\n",
       "        text-align: right;\n",
       "    }\n",
       "</style>\n",
       "<table border=\"1\" class=\"dataframe\">\n",
       "  <thead>\n",
       "    <tr style=\"text-align: right;\">\n",
       "      <th></th>\n",
       "      <th>sentiment</th>\n",
       "      <th>length</th>\n",
       "      <th>length_clean_review</th>\n",
       "    </tr>\n",
       "  </thead>\n",
       "  <tbody>\n",
       "    <tr>\n",
       "      <th>count</th>\n",
       "      <td>25000.00000</td>\n",
       "      <td>25000.000000</td>\n",
       "      <td>25000.000000</td>\n",
       "    </tr>\n",
       "    <tr>\n",
       "      <th>mean</th>\n",
       "      <td>0.50000</td>\n",
       "      <td>1327.710560</td>\n",
       "      <td>119.523560</td>\n",
       "    </tr>\n",
       "    <tr>\n",
       "      <th>std</th>\n",
       "      <td>0.50001</td>\n",
       "      <td>1005.239246</td>\n",
       "      <td>90.583576</td>\n",
       "    </tr>\n",
       "    <tr>\n",
       "      <th>min</th>\n",
       "      <td>0.00000</td>\n",
       "      <td>52.000000</td>\n",
       "      <td>4.000000</td>\n",
       "    </tr>\n",
       "    <tr>\n",
       "      <th>25%</th>\n",
       "      <td>0.00000</td>\n",
       "      <td>703.000000</td>\n",
       "      <td>63.000000</td>\n",
       "    </tr>\n",
       "    <tr>\n",
       "      <th>50%</th>\n",
       "      <td>0.50000</td>\n",
       "      <td>981.000000</td>\n",
       "      <td>89.000000</td>\n",
       "    </tr>\n",
       "    <tr>\n",
       "      <th>75%</th>\n",
       "      <td>1.00000</td>\n",
       "      <td>1617.000000</td>\n",
       "      <td>146.000000</td>\n",
       "    </tr>\n",
       "    <tr>\n",
       "      <th>max</th>\n",
       "      <td>1.00000</td>\n",
       "      <td>13708.000000</td>\n",
       "      <td>1416.000000</td>\n",
       "    </tr>\n",
       "  </tbody>\n",
       "</table>\n",
       "</div>"
      ],
      "text/plain": [
       "         sentiment        length  length_clean_review\n",
       "count  25000.00000  25000.000000         25000.000000\n",
       "mean       0.50000   1327.710560           119.523560\n",
       "std        0.50001   1005.239246            90.583576\n",
       "min        0.00000     52.000000             4.000000\n",
       "25%        0.00000    703.000000            63.000000\n",
       "50%        0.50000    981.000000            89.000000\n",
       "75%        1.00000   1617.000000           146.000000\n",
       "max        1.00000  13708.000000          1416.000000"
      ]
     },
     "execution_count": 16,
     "metadata": {},
     "output_type": "execute_result"
    }
   ],
   "source": [
    "train.describe()"
   ]
  },
  {
   "cell_type": "code",
   "execution_count": 17,
   "metadata": {
    "execution": {
     "iopub.execute_input": "2020-12-16T10:04:50.274331Z",
     "iopub.status.busy": "2020-12-16T10:04:50.273586Z",
     "iopub.status.idle": "2020-12-16T10:04:50.284176Z",
     "shell.execute_reply": "2020-12-16T10:04:50.284760Z"
    },
    "papermill": {
     "duration": 0.064446,
     "end_time": "2020-12-16T10:04:50.284936",
     "exception": false,
     "start_time": "2020-12-16T10:04:50.220490",
     "status": "completed"
    },
    "tags": []
   },
   "outputs": [
    {
     "name": "stdout",
     "output_type": "stream",
     "text": [
      "This movie is terrible but it has some good effects.\n",
      "------After Cleaning------\n",
      "['movie', 'terrible', 'good', 'effects']\n"
     ]
    }
   ],
   "source": [
    "#Checking the smallest review\n",
    "print(train[train['length_clean_review'] == 4]['review'].iloc[0])\n",
    "print('------After Cleaning------')\n",
    "print(train[train['length_clean_review'] == 4]['clean_review'].iloc[0])"
   ]
  },
  {
   "cell_type": "markdown",
   "metadata": {
    "papermill": {
     "duration": 0.057105,
     "end_time": "2020-12-16T10:04:50.394365",
     "exception": false,
     "start_time": "2020-12-16T10:04:50.337260",
     "status": "completed"
    },
    "tags": []
   },
   "source": [
    "## Word CLoud"
   ]
  },
  {
   "cell_type": "markdown",
   "metadata": {
    "papermill": {
     "duration": 0.050351,
     "end_time": "2020-12-16T10:04:50.495583",
     "exception": false,
     "start_time": "2020-12-16T10:04:50.445232",
     "status": "completed"
    },
    "tags": []
   },
   "source": [
    "Wordcloud before cleaning"
   ]
  },
  {
   "cell_type": "code",
   "execution_count": 18,
   "metadata": {
    "execution": {
     "iopub.execute_input": "2020-12-16T10:04:50.608493Z",
     "iopub.status.busy": "2020-12-16T10:04:50.607783Z",
     "iopub.status.idle": "2020-12-16T10:05:19.898501Z",
     "shell.execute_reply": "2020-12-16T10:05:19.899820Z"
    },
    "papermill": {
     "duration": 29.347622,
     "end_time": "2020-12-16T10:05:19.900168",
     "exception": false,
     "start_time": "2020-12-16T10:04:50.552546",
     "status": "completed"
    },
    "tags": []
   },
   "outputs": [
    {
     "data": {
      "image/png": "[encoded data removed]",
      "text/plain": [
       "<Figure size 1080x576 with 1 Axes>"
      ]
     },
     "metadata": {
      "needs_background": "light"
     },
     "output_type": "display_data"
    }
   ],
   "source": [
    "#Plot wordcloud\n",
    "word_cloud = WordCloud(width = 1000, height = 500, stopwords = STOPWORDS, background_color = 'blue').generate(\n",
    "                        ''.join(train['review']))\n",
    "\n",
    "plt.figure(figsize = (15,8))\n",
    "plt.imshow(word_cloud)\n",
    "plt.axis('off')\n",
    "plt.show()\n",
    "\n",
    "#word_cloud.to_file('aa.png')   #for saving file"
   ]
  },
  {
   "cell_type": "markdown",
   "metadata": {
    "papermill": {
     "duration": 0.066296,
     "end_time": "2020-12-16T10:05:20.031688",
     "exception": false,
     "start_time": "2020-12-16T10:05:19.965392",
     "status": "completed"
    },
    "tags": []
   },
   "source": [
    "## Vectorization"
   ]
  },
  {
   "cell_type": "markdown",
   "metadata": {
    "papermill": {
     "duration": 0.060899,
     "end_time": "2020-12-16T10:05:20.156255",
     "exception": false,
     "start_time": "2020-12-16T10:05:20.095356",
     "status": "completed"
    },
    "tags": []
   },
   "source": [
    "Now we'll convert each review, represented as a list of tokens into a vector that machine learning models can understand.\n",
    "\n",
    "We'll do that in three steps using the bag-of-words model:\n",
    "\n",
    "1. Count how many times does a word occur in each message (Known as term frequency)\n",
    "\n",
    "2. Weigh the counts, so that frequent tokens get lower weight (inverse document frequency)\n",
    "\n",
    "3. Normalize the vectors to unit length, to abstract from the original text length (L2 norm)\n",
    "\n",
    "Let's begin the first step:"
   ]
  },
  {
   "cell_type": "code",
   "execution_count": 19,
   "metadata": {
    "execution": {
     "iopub.execute_input": "2020-12-16T10:05:20.285301Z",
     "iopub.status.busy": "2020-12-16T10:05:20.284564Z",
     "iopub.status.idle": "2020-12-16T10:05:20.290149Z",
     "shell.execute_reply": "2020-12-16T10:05:20.289543Z"
    },
    "papermill": {
     "duration": 0.068532,
     "end_time": "2020-12-16T10:05:20.290288",
     "exception": false,
     "start_time": "2020-12-16T10:05:20.221756",
     "status": "completed"
    },
    "tags": []
   },
   "outputs": [],
   "source": [
    "from sklearn.feature_extraction.text import CountVectorizer"
   ]
  },
  {
   "cell_type": "markdown",
   "metadata": {
    "papermill": {
     "duration": 0.062059,
     "end_time": "2020-12-16T10:05:20.416582",
     "exception": false,
     "start_time": "2020-12-16T10:05:20.354523",
     "status": "completed"
    },
    "tags": []
   },
   "source": [
    "There are a lot of arguments and parameters that can be passed to the CountVectorizer. In this case we will just specify the **analyzer** to be our own previously defined function:"
   ]
  },
  {
   "cell_type": "code",
   "execution_count": 20,
   "metadata": {
    "execution": {
     "iopub.execute_input": "2020-12-16T10:05:20.547333Z",
     "iopub.status.busy": "2020-12-16T10:05:20.546584Z",
     "iopub.status.idle": "2020-12-16T10:05:46.230433Z",
     "shell.execute_reply": "2020-12-16T10:05:46.229545Z"
    },
    "papermill": {
     "duration": 25.750953,
     "end_time": "2020-12-16T10:05:46.230602",
     "exception": false,
     "start_time": "2020-12-16T10:05:20.479649",
     "status": "completed"
    },
    "tags": []
   },
   "outputs": [
    {
     "name": "stdout",
     "output_type": "stream",
     "text": [
      "74065\n"
     ]
    }
   ],
   "source": [
    "# Might take awhile...\n",
    "bow_transform = CountVectorizer(analyzer=clean_text).fit(train['review'])  #bow = bag of word\n",
    "\n",
    "# Print total number of vocab words\n",
    "print(len(bow_transform.vocabulary_))"
   ]
  },
  {
   "cell_type": "markdown",
   "metadata": {
    "papermill": {
     "duration": 0.061795,
     "end_time": "2020-12-16T10:05:46.359507",
     "exception": false,
     "start_time": "2020-12-16T10:05:46.297712",
     "status": "completed"
    },
    "tags": []
   },
   "source": [
    "Let's take one text message and get its bag-of-words counts as a vector, putting to use our new **bow_transformer**"
   ]
  },
  {
   "cell_type": "code",
   "execution_count": 21,
   "metadata": {
    "execution": {
     "iopub.execute_input": "2020-12-16T10:05:46.491827Z",
     "iopub.status.busy": "2020-12-16T10:05:46.491134Z",
     "iopub.status.idle": "2020-12-16T10:05:46.495760Z",
     "shell.execute_reply": "2020-12-16T10:05:46.494382Z"
    },
    "papermill": {
     "duration": 0.074436,
     "end_time": "2020-12-16T10:05:46.495933",
     "exception": false,
     "start_time": "2020-12-16T10:05:46.421497",
     "status": "completed"
    },
    "tags": []
   },
   "outputs": [
    {
     "name": "stdout",
     "output_type": "stream",
     "text": [
      "\\The Classic War of the Worlds\\\" by Timothy Hines is a very entertaining film that obviously goes to great effort and lengths to faithfully recreate H. G. Wells' classic book. Mr. Hines succeeds in doing so. I, and those who watched his film with me, appreciated the fact that it was not the standard, predictable Hollywood fare that comes out every year, e.g. the Spielberg version with Tom Cruise that had only the slightest resemblance to the book. Obviously, everyone looks for different things in a movie. Those who envision themselves as amateur \\\"critics\\\" look only to criticize everything they can. Others rate a movie on more important bases,like being entertained, which is why most people never agree with the \\\"critics\\\". We enjoyed the effort Mr. Hines put into being faithful to H.G. Wells' classic novel, and we found it to be very entertaining. This made it easy to overlook what the \\\"critics\\\" perceive to be its shortcomings.\"\n"
     ]
    }
   ],
   "source": [
    "review1 = train['review'][1]\n",
    "print(review1)"
   ]
  },
  {
   "cell_type": "markdown",
   "metadata": {
    "papermill": {
     "duration": 0.063385,
     "end_time": "2020-12-16T10:05:46.621378",
     "exception": false,
     "start_time": "2020-12-16T10:05:46.557993",
     "status": "completed"
    },
    "tags": []
   },
   "source": [
    "Now let's see its vector representation:"
   ]
  },
  {
   "cell_type": "code",
   "execution_count": 22,
   "metadata": {
    "execution": {
     "iopub.execute_input": "2020-12-16T10:05:46.765735Z",
     "iopub.status.busy": "2020-12-16T10:05:46.764257Z",
     "iopub.status.idle": "2020-12-16T10:05:46.778638Z",
     "shell.execute_reply": "2020-12-16T10:05:46.777873Z"
    },
    "papermill": {
     "duration": 0.087511,
     "end_time": "2020-12-16T10:05:46.778764",
     "exception": false,
     "start_time": "2020-12-16T10:05:46.691253",
     "status": "completed"
    },
    "tags": []
   },
   "outputs": [
    {
     "name": "stdout",
     "output_type": "stream",
     "text": [
      "  (0, 1153)\t1\n",
      "  (0, 1860)\t1\n",
      "  (0, 2877)\t1\n",
      "  (0, 5089)\t1\n",
      "  (0, 7345)\t2\n",
      "  (0, 11671)\t3\n",
      "  (0, 12493)\t1\n",
      "  (0, 14613)\t1\n",
      "  (0, 14617)\t3\n",
      "  (0, 14782)\t1\n",
      "  (0, 17310)\t1\n",
      "  (0, 19658)\t1\n",
      "  (0, 19759)\t1\n",
      "  (0, 20008)\t2\n",
      "  (0, 20901)\t1\n",
      "  (0, 21030)\t1\n",
      "  (0, 21035)\t2\n",
      "  (0, 21147)\t1\n",
      "  (0, 21748)\t1\n",
      "  (0, 21754)\t1\n",
      "  (0, 21757)\t1\n",
      "  (0, 22499)\t1\n",
      "  (0, 22584)\t1\n",
      "  (0, 22585)\t1\n",
      "  (0, 22788)\t1\n",
      "  :\t:\n",
      "  (0, 45216)\t1\n",
      "  (0, 45629)\t2\n",
      "  (0, 46521)\t1\n",
      "  (0, 46850)\t1\n",
      "  (0, 48251)\t1\n",
      "  (0, 48288)\t1\n",
      "  (0, 50446)\t1\n",
      "  (0, 51816)\t1\n",
      "  (0, 52690)\t1\n",
      "  (0, 53240)\t1\n",
      "  (0, 54251)\t1\n",
      "  (0, 58936)\t1\n",
      "  (0, 59991)\t1\n",
      "  (0, 61334)\t1\n",
      "  (0, 61943)\t1\n",
      "  (0, 63259)\t1\n",
      "  (0, 65725)\t1\n",
      "  (0, 66191)\t1\n",
      "  (0, 66463)\t1\n",
      "  (0, 70380)\t1\n",
      "  (0, 71340)\t1\n",
      "  (0, 71498)\t1\n",
      "  (0, 71821)\t2\n",
      "  (0, 72911)\t1\n",
      "  (0, 73396)\t1\n",
      "(1, 74065)\n"
     ]
    }
   ],
   "source": [
    "bow1 = bow_transform.transform([review1])\n",
    "print(bow1)\n",
    "print(bow1.shape)"
   ]
  },
  {
   "cell_type": "markdown",
   "metadata": {
    "papermill": {
     "duration": 0.06745,
     "end_time": "2020-12-16T10:05:46.912388",
     "exception": false,
     "start_time": "2020-12-16T10:05:46.844938",
     "status": "completed"
    },
    "tags": []
   },
   "source": [
    "Here 2 and 1 represent the occurance of word in the text phase & Number like  '73396' are index of that particular word"
   ]
  },
  {
   "cell_type": "code",
   "execution_count": 23,
   "metadata": {
    "execution": {
     "iopub.execute_input": "2020-12-16T10:05:47.052957Z",
     "iopub.status.busy": "2020-12-16T10:05:47.051782Z",
     "iopub.status.idle": "2020-12-16T10:05:47.218017Z",
     "shell.execute_reply": "2020-12-16T10:05:47.218724Z"
    },
    "papermill": {
     "duration": 0.237381,
     "end_time": "2020-12-16T10:05:47.218920",
     "exception": false,
     "start_time": "2020-12-16T10:05:46.981539",
     "status": "completed"
    },
    "tags": []
   },
   "outputs": [
    {
     "name": "stdout",
     "output_type": "stream",
     "text": [
      "wells\n",
      "worlds\n"
     ]
    }
   ],
   "source": [
    "print(bow_transform.get_feature_names()[71821])\n",
    "print(bow_transform.get_feature_names()[72911])"
   ]
  },
  {
   "cell_type": "markdown",
   "metadata": {
    "papermill": {
     "duration": 0.062286,
     "end_time": "2020-12-16T10:05:47.346160",
     "exception": false,
     "start_time": "2020-12-16T10:05:47.283874",
     "status": "completed"
    },
    "tags": []
   },
   "source": [
    "Above both words stores on that particular index"
   ]
  },
  {
   "cell_type": "code",
   "execution_count": 24,
   "metadata": {
    "execution": {
     "iopub.execute_input": "2020-12-16T10:05:47.499321Z",
     "iopub.status.busy": "2020-12-16T10:05:47.498193Z",
     "iopub.status.idle": "2020-12-16T10:06:13.304282Z",
     "shell.execute_reply": "2020-12-16T10:06:13.302693Z"
    },
    "papermill": {
     "duration": 25.890822,
     "end_time": "2020-12-16T10:06:13.304465",
     "exception": false,
     "start_time": "2020-12-16T10:05:47.413643",
     "status": "completed"
    },
    "tags": []
   },
   "outputs": [],
   "source": [
    "#Creating bag of words for our review variable\n",
    "review_bow = bow_transform.transform(train['review'])"
   ]
  },
  {
   "cell_type": "markdown",
   "metadata": {
    "papermill": {
     "duration": 0.061524,
     "end_time": "2020-12-16T10:06:13.432393",
     "exception": false,
     "start_time": "2020-12-16T10:06:13.370869",
     "status": "completed"
    },
    "tags": []
   },
   "source": [
    "Checking the shape and non zero occurances of our sparse matrix that we have just generated"
   ]
  },
  {
   "cell_type": "code",
   "execution_count": 25,
   "metadata": {
    "execution": {
     "iopub.execute_input": "2020-12-16T10:06:13.579113Z",
     "iopub.status.busy": "2020-12-16T10:06:13.577908Z",
     "iopub.status.idle": "2020-12-16T10:06:13.583523Z",
     "shell.execute_reply": "2020-12-16T10:06:13.585082Z"
    },
    "papermill": {
     "duration": 0.085846,
     "end_time": "2020-12-16T10:06:13.585370",
     "exception": false,
     "start_time": "2020-12-16T10:06:13.499524",
     "status": "completed"
    },
    "tags": []
   },
   "outputs": [
    {
     "name": "stdout",
     "output_type": "stream",
     "text": [
      "Shape of Sparse Matrix:  (25000, 74065)\n",
      "Amount of Non-Zero occurences:  2450404\n"
     ]
    }
   ],
   "source": [
    "print('Shape of Sparse Matrix: ', review_bow.shape)\n",
    "print('Amount of Non-Zero occurences: ', review_bow.nnz)"
   ]
  },
  {
   "cell_type": "markdown",
   "metadata": {
    "papermill": {
     "duration": 0.075836,
     "end_time": "2020-12-16T10:06:13.745596",
     "exception": false,
     "start_time": "2020-12-16T10:06:13.669760",
     "status": "completed"
    },
    "tags": []
   },
   "source": [
    "Checking the sparsity of sparse matrix"
   ]
  },
  {
   "cell_type": "code",
   "execution_count": 26,
   "metadata": {
    "execution": {
     "iopub.execute_input": "2020-12-16T10:06:13.883470Z",
     "iopub.status.busy": "2020-12-16T10:06:13.882409Z",
     "iopub.status.idle": "2020-12-16T10:06:13.890146Z",
     "shell.execute_reply": "2020-12-16T10:06:13.889312Z"
    },
    "papermill": {
     "duration": 0.075985,
     "end_time": "2020-12-16T10:06:13.890374",
     "exception": false,
     "start_time": "2020-12-16T10:06:13.814389",
     "status": "completed"
    },
    "tags": []
   },
   "outputs": [
    {
     "name": "stdout",
     "output_type": "stream",
     "text": [
      "sparsity: 0.1323380274083575\n"
     ]
    }
   ],
   "source": [
    "sparsity = (100.0 * review_bow.nnz / (review_bow.shape[0] * review_bow.shape[1]))\n",
    "print('sparsity: {}'.format(sparsity))"
   ]
  },
  {
   "cell_type": "markdown",
   "metadata": {
    "papermill": {
     "duration": 0.067346,
     "end_time": "2020-12-16T10:06:14.028144",
     "exception": false,
     "start_time": "2020-12-16T10:06:13.960798",
     "status": "completed"
    },
    "tags": []
   },
   "source": [
    "## TF-IDF\n",
    "Term Frequency - Inverse Document Frequency.\n",
    "\n",
    "After the counting, the term weighting and normalization can be done with tf-idf\n",
    "\n",
    "**TF: Term Frequency**, which measures how frequently a term occurs in a document. Since every document is different in length, it is possible that a term would appear much more times in long documents than shorter ones. Thus, the term frequency is often divided by the document length (aka. the total number of terms in the document) as a way of normalization: \n",
    "\n",
    "*TF(t) = (Number of times term t appears in a document) / (Total number of terms in the document).*\n",
    "\n",
    "**IDF: Inverse Document Frequency**, which measures how important a term is. While computing TF, all terms are considered equally important. However it is known that certain terms, such as \"is\", \"of\", and \"that\", may appear a lot of times but have little importance. Thus we need to weigh down the frequent terms while scale up the rare ones, by computing the following: \n",
    "\n",
    "*IDF(t) = log_e(Total number of documents / Number of documents with term t in it).*"
   ]
  },
  {
   "cell_type": "code",
   "execution_count": 27,
   "metadata": {
    "execution": {
     "iopub.execute_input": "2020-12-16T10:06:14.172899Z",
     "iopub.status.busy": "2020-12-16T10:06:14.172174Z",
     "iopub.status.idle": "2020-12-16T10:06:14.199043Z",
     "shell.execute_reply": "2020-12-16T10:06:14.198424Z"
    },
    "papermill": {
     "duration": 0.106167,
     "end_time": "2020-12-16T10:06:14.199181",
     "exception": false,
     "start_time": "2020-12-16T10:06:14.093014",
     "status": "completed"
    },
    "tags": []
   },
   "outputs": [
    {
     "name": "stdout",
     "output_type": "stream",
     "text": [
      "  (0, 73396)\t0.061582405387422844\n",
      "  (0, 72911)\t0.10916204090045824\n",
      "  (0, 71821)\t0.24678226776886478\n",
      "  (0, 71498)\t0.06130848347869254\n",
      "  (0, 71340)\t0.07054912976037264\n",
      "  (0, 70380)\t0.06691025207731116\n",
      "  (0, 66463)\t0.08376908496574231\n",
      "  (0, 66191)\t0.11391853286104583\n",
      "  (0, 65725)\t0.05408056138661737\n",
      "  (0, 63259)\t0.1047755178999042\n",
      "  (0, 61943)\t0.08811567227327795\n",
      "  (0, 61334)\t0.11302952635114163\n",
      "  (0, 59991)\t0.10986956065151147\n",
      "  (0, 58936)\t0.11997053429431336\n",
      "  (0, 54251)\t0.11268631063864525\n",
      "  (0, 53240)\t0.13073660913364496\n",
      "  (0, 52690)\t0.0824732205199774\n",
      "  (0, 51816)\t0.05986262652464556\n",
      "  (0, 50446)\t0.077539268028452\n",
      "  (0, 48288)\t0.13122486190259133\n",
      "  (0, 48251)\t0.04143735557967593\n",
      "  (0, 46850)\t0.11689701180182505\n",
      "  (0, 46521)\t0.06665775481300043\n",
      "  (0, 45629)\t0.14376840111740952\n",
      "  (0, 45216)\t0.08006252757098449\n",
      "  :\t:\n",
      "  (0, 22788)\t0.10110289576849556\n",
      "  (0, 22585)\t0.13850169616266522\n",
      "  (0, 22584)\t0.10403788202119751\n",
      "  (0, 22499)\t0.05424308473387671\n",
      "  (0, 21757)\t0.06083289839379746\n",
      "  (0, 21754)\t0.061698576872810384\n",
      "  (0, 21748)\t0.05242341055581426\n",
      "  (0, 21147)\t0.15476362331540858\n",
      "  (0, 21035)\t0.13604634273405658\n",
      "  (0, 21030)\t0.09882124404859957\n",
      "  (0, 20901)\t0.07083536374522043\n",
      "  (0, 20008)\t0.157199580701254\n",
      "  (0, 19759)\t0.07836365826349871\n",
      "  (0, 19658)\t0.07985680613966428\n",
      "  (0, 17310)\t0.06153793056932126\n",
      "  (0, 14782)\t0.11285706893716993\n",
      "  (0, 14617)\t0.27545778646953534\n",
      "  (0, 14613)\t0.12469981772952707\n",
      "  (0, 12493)\t0.059734063471707025\n",
      "  (0, 11671)\t0.19644327376607876\n",
      "  (0, 7345)\t0.1337237458106877\n",
      "  (0, 5089)\t0.1363767739136488\n",
      "  (0, 2877)\t0.10199648681145218\n",
      "  (0, 1860)\t0.1015439329781005\n",
      "  (0, 1153)\t0.0836096374096924\n"
     ]
    }
   ],
   "source": [
    "from sklearn.feature_extraction.text import TfidfTransformer\n",
    "\n",
    "tfidf_transformer = TfidfTransformer().fit(review_bow)\n",
    "tfidf1 = tfidf_transformer.transform(bow1)\n",
    "print(tfidf1)"
   ]
  },
  {
   "cell_type": "markdown",
   "metadata": {
    "papermill": {
     "duration": 0.067872,
     "end_time": "2020-12-16T10:06:14.348275",
     "exception": false,
     "start_time": "2020-12-16T10:06:14.280403",
     "status": "completed"
    },
    "tags": []
   },
   "source": [
    "We'll go ahead and check what is the IDF (inverse document frequency) of the word `\"war\"` and of word `\"book\"`?"
   ]
  },
  {
   "cell_type": "code",
   "execution_count": 28,
   "metadata": {
    "execution": {
     "iopub.execute_input": "2020-12-16T10:06:14.495775Z",
     "iopub.status.busy": "2020-12-16T10:06:14.494546Z",
     "iopub.status.idle": "2020-12-16T10:06:14.504003Z",
     "shell.execute_reply": "2020-12-16T10:06:14.503260Z"
    },
    "papermill": {
     "duration": 0.084803,
     "end_time": "2020-12-16T10:06:14.504134",
     "exception": false,
     "start_time": "2020-12-16T10:06:14.419331",
     "status": "completed"
    },
    "tags": []
   },
   "outputs": [
    {
     "name": "stdout",
     "output_type": "stream",
     "text": [
      "4.070495818949949\n",
      "3.8577509748566374\n"
     ]
    }
   ],
   "source": [
    "print(tfidf_transformer.idf_[bow_transform.vocabulary_['war']])\n",
    "print(tfidf_transformer.idf_[bow_transform.vocabulary_['book']])"
   ]
  },
  {
   "cell_type": "markdown",
   "metadata": {
    "papermill": {
     "duration": 0.070411,
     "end_time": "2020-12-16T10:06:14.646119",
     "exception": false,
     "start_time": "2020-12-16T10:06:14.575708",
     "status": "completed"
    },
    "tags": []
   },
   "source": [
    "To transform the entire bag-of-words corpus into TF-IDF corpus at once:"
   ]
  },
  {
   "cell_type": "code",
   "execution_count": 29,
   "metadata": {
    "execution": {
     "iopub.execute_input": "2020-12-16T10:06:14.790395Z",
     "iopub.status.busy": "2020-12-16T10:06:14.789491Z",
     "iopub.status.idle": "2020-12-16T10:06:14.893872Z",
     "shell.execute_reply": "2020-12-16T10:06:14.893182Z"
    },
    "papermill": {
     "duration": 0.177962,
     "end_time": "2020-12-16T10:06:14.894016",
     "exception": false,
     "start_time": "2020-12-16T10:06:14.716054",
     "status": "completed"
    },
    "tags": []
   },
   "outputs": [
    {
     "name": "stdout",
     "output_type": "stream",
     "text": [
      "(25000, 74065)\n"
     ]
    }
   ],
   "source": [
    "review_tfidf = tfidf_transformer.transform(review_bow)\n",
    "print(review_tfidf.shape)"
   ]
  },
  {
   "cell_type": "markdown",
   "metadata": {
    "papermill": {
     "duration": 0.06664,
     "end_time": "2020-12-16T10:06:15.031329",
     "exception": false,
     "start_time": "2020-12-16T10:06:14.964689",
     "status": "completed"
    },
    "tags": []
   },
   "source": [
    "## Modeling Part"
   ]
  },
  {
   "cell_type": "markdown",
   "metadata": {
    "papermill": {
     "duration": 0.067751,
     "end_time": "2020-12-16T10:06:15.172679",
     "exception": false,
     "start_time": "2020-12-16T10:06:15.104928",
     "status": "completed"
    },
    "tags": []
   },
   "source": [
    "#### Train Test Split"
   ]
  },
  {
   "cell_type": "code",
   "execution_count": 30,
   "metadata": {
    "execution": {
     "iopub.execute_input": "2020-12-16T10:06:15.323798Z",
     "iopub.status.busy": "2020-12-16T10:06:15.322582Z",
     "iopub.status.idle": "2020-12-16T10:06:15.332465Z",
     "shell.execute_reply": "2020-12-16T10:06:15.331873Z"
    },
    "papermill": {
     "duration": 0.0926,
     "end_time": "2020-12-16T10:06:15.332597",
     "exception": false,
     "start_time": "2020-12-16T10:06:15.239997",
     "status": "completed"
    },
    "tags": []
   },
   "outputs": [
    {
     "data": {
      "text/plain": [
       "(19500, 5500, 25000)"
      ]
     },
     "execution_count": 30,
     "metadata": {},
     "output_type": "execute_result"
    }
   ],
   "source": [
    "from sklearn.model_selection import train_test_split\n",
    "\n",
    "X_train, X_test, y_train, y_test = train_test_split(train['review'], train['sentiment'], test_size=0.22, random_state=101)\n",
    "\n",
    "len(X_train), len(X_test), len(X_train) + len(X_test)"
   ]
  },
  {
   "cell_type": "markdown",
   "metadata": {
    "papermill": {
     "duration": 0.06799,
     "end_time": "2020-12-16T10:06:15.471096",
     "exception": false,
     "start_time": "2020-12-16T10:06:15.403106",
     "status": "completed"
    },
    "tags": []
   },
   "source": [
    "#### Result Function"
   ]
  },
  {
   "cell_type": "code",
   "execution_count": 31,
   "metadata": {
    "execution": {
     "iopub.execute_input": "2020-12-16T10:06:15.625208Z",
     "iopub.status.busy": "2020-12-16T10:06:15.624195Z",
     "iopub.status.idle": "2020-12-16T10:06:15.628031Z",
     "shell.execute_reply": "2020-12-16T10:06:15.626826Z"
    },
    "papermill": {
     "duration": 0.086839,
     "end_time": "2020-12-16T10:06:15.628184",
     "exception": false,
     "start_time": "2020-12-16T10:06:15.541345",
     "status": "completed"
    },
    "tags": []
   },
   "outputs": [],
   "source": [
    "from sklearn.metrics import classification_report\n",
    "#Predicting & Stats Function\n",
    "def pred(predicted,compare):\n",
    "    cm = pd.crosstab(compare,predicted)\n",
    "    TN = cm.iloc[0,0]\n",
    "    FN = cm.iloc[1,0]\n",
    "    TP = cm.iloc[1,1]\n",
    "    FP = cm.iloc[0,1]\n",
    "    print(\"CONFUSION MATRIX ------->> \")\n",
    "    print(cm)\n",
    "    print()\n",
    "    \n",
    "    ##check accuracy of model\n",
    "    print('Classification paradox :------->>')\n",
    "    print('Accuracy :- ', round(((TP+TN)*100)/(TP+TN+FP+FN),2))\n",
    "    print()\n",
    "    print('False Negative Rate :- ',round((FN*100)/(FN+TP),2))\n",
    "    print()\n",
    "    print('False Postive Rate :- ',round((FP*100)/(FP+TN),2))\n",
    "    print()\n",
    "    print(classification_report(compare,predicted))"
   ]
  },
  {
   "cell_type": "markdown",
   "metadata": {
    "papermill": {
     "duration": 0.072228,
     "end_time": "2020-12-16T10:06:15.769943",
     "exception": false,
     "start_time": "2020-12-16T10:06:15.697715",
     "status": "completed"
    },
    "tags": []
   },
   "source": [
    "## Training Model"
   ]
  },
  {
   "cell_type": "markdown",
   "metadata": {
    "papermill": {
     "duration": 0.067988,
     "end_time": "2020-12-16T10:06:15.905657",
     "exception": false,
     "start_time": "2020-12-16T10:06:15.837669",
     "status": "completed"
    },
    "tags": []
   },
   "source": [
    "### Logistic Regression"
   ]
  },
  {
   "cell_type": "code",
   "execution_count": 32,
   "metadata": {
    "execution": {
     "iopub.execute_input": "2020-12-16T10:06:16.051000Z",
     "iopub.status.busy": "2020-12-16T10:06:16.049805Z",
     "iopub.status.idle": "2020-12-16T10:07:00.100885Z",
     "shell.execute_reply": "2020-12-16T10:07:00.101773Z"
    },
    "papermill": {
     "duration": 44.126706,
     "end_time": "2020-12-16T10:07:00.102077",
     "exception": false,
     "start_time": "2020-12-16T10:06:15.975371",
     "status": "completed"
    },
    "tags": []
   },
   "outputs": [
    {
     "name": "stdout",
     "output_type": "stream",
     "text": [
      "CONFUSION MATRIX ------->> \n",
      "col_0         0     1\n",
      "sentiment            \n",
      "0          9042   682\n",
      "1           499  9277\n",
      "\n",
      "Classification paradox :------->>\n",
      "Accuracy :-  93.94\n",
      "\n",
      "False Negative Rate :-  5.1\n",
      "\n",
      "False Postive Rate :-  7.01\n",
      "\n",
      "              precision    recall  f1-score   support\n",
      "\n",
      "           0       0.95      0.93      0.94      9724\n",
      "           1       0.93      0.95      0.94      9776\n",
      "\n",
      "    accuracy                           0.94     19500\n",
      "   macro avg       0.94      0.94      0.94     19500\n",
      "weighted avg       0.94      0.94      0.94     19500\n",
      "\n"
     ]
    }
   ],
   "source": [
    "from sklearn.linear_model import LogisticRegression\n",
    "from sklearn.pipeline import Pipeline\n",
    "\n",
    "pipeline = Pipeline([\n",
    "    ('bow', CountVectorizer(analyzer=clean_text)),  # strings to token integer counts\n",
    "    ('tfidf', TfidfTransformer()),  # integer counts to weighted TF-IDF scores\n",
    "    ('classifier', LogisticRegression(random_state=101)),  # train on TF-IDF vectors w/ Naive Bayes classifier\n",
    "])\n",
    "\n",
    "pipeline.fit(X_train,y_train)\n",
    "predictions = pipeline.predict(X_train)\n",
    "pred(predictions,y_train)"
   ]
  },
  {
   "cell_type": "code",
   "execution_count": 33,
   "metadata": {
    "execution": {
     "iopub.execute_input": "2020-12-16T10:07:00.248225Z",
     "iopub.status.busy": "2020-12-16T10:07:00.247289Z",
     "iopub.status.idle": "2020-12-16T10:07:05.884050Z",
     "shell.execute_reply": "2020-12-16T10:07:05.883019Z"
    },
    "papermill": {
     "duration": 5.712263,
     "end_time": "2020-12-16T10:07:05.884196",
     "exception": false,
     "start_time": "2020-12-16T10:07:00.171933",
     "status": "completed"
    },
    "tags": []
   },
   "outputs": [
    {
     "name": "stdout",
     "output_type": "stream",
     "text": [
      "CONFUSION MATRIX ------->> \n",
      "col_0         0     1\n",
      "sentiment            \n",
      "0          2424   352\n",
      "1           267  2457\n",
      "\n",
      "Classification paradox :------->>\n",
      "Accuracy :-  88.75\n",
      "\n",
      "False Negative Rate :-  9.8\n",
      "\n",
      "False Postive Rate :-  12.68\n",
      "\n",
      "              precision    recall  f1-score   support\n",
      "\n",
      "           0       0.90      0.87      0.89      2776\n",
      "           1       0.87      0.90      0.89      2724\n",
      "\n",
      "    accuracy                           0.89      5500\n",
      "   macro avg       0.89      0.89      0.89      5500\n",
      "weighted avg       0.89      0.89      0.89      5500\n",
      "\n"
     ]
    }
   ],
   "source": [
    "#Test Set Result\n",
    "predictions = pipeline.predict(X_test)\n",
    "pred(predictions,y_test)"
   ]
  },
  {
   "cell_type": "markdown",
   "metadata": {
    "papermill": {
     "duration": 0.070828,
     "end_time": "2020-12-16T10:07:06.021728",
     "exception": false,
     "start_time": "2020-12-16T10:07:05.950900",
     "status": "completed"
    },
    "tags": []
   },
   "source": [
    "### Naive Bayes Model"
   ]
  },
  {
   "cell_type": "code",
   "execution_count": 34,
   "metadata": {
    "execution": {
     "iopub.execute_input": "2020-12-16T10:07:06.162223Z",
     "iopub.status.busy": "2020-12-16T10:07:06.161127Z",
     "iopub.status.idle": "2020-12-16T10:07:44.312062Z",
     "shell.execute_reply": "2020-12-16T10:07:44.312609Z"
    },
    "papermill": {
     "duration": 38.223613,
     "end_time": "2020-12-16T10:07:44.312770",
     "exception": false,
     "start_time": "2020-12-16T10:07:06.089157",
     "status": "completed"
    },
    "tags": []
   },
   "outputs": [
    {
     "name": "stdout",
     "output_type": "stream",
     "text": [
      "CONFUSION MATRIX ------->> \n",
      "col_0         0     1\n",
      "sentiment            \n",
      "0          9054   670\n",
      "1           843  8933\n",
      "\n",
      "Classification paradox :------->>\n",
      "Accuracy :-  92.24\n",
      "\n",
      "False Negative Rate :-  8.62\n",
      "\n",
      "False Postive Rate :-  6.89\n",
      "\n",
      "              precision    recall  f1-score   support\n",
      "\n",
      "           0       0.91      0.93      0.92      9724\n",
      "           1       0.93      0.91      0.92      9776\n",
      "\n",
      "    accuracy                           0.92     19500\n",
      "   macro avg       0.92      0.92      0.92     19500\n",
      "weighted avg       0.92      0.92      0.92     19500\n",
      "\n"
     ]
    }
   ],
   "source": [
    "from sklearn.pipeline import Pipeline\n",
    "from sklearn.naive_bayes import MultinomialNB\n",
    "\n",
    "pipeline = Pipeline([\n",
    "    ('bow', CountVectorizer(analyzer=clean_text)),  # strings to token integer counts\n",
    "    ('tfidf', TfidfTransformer()),  # integer counts to weighted TF-IDF scores\n",
    "    ('classifier', MultinomialNB()),  # train on TF-IDF vectors w/ Naive Bayes classifier\n",
    "])\n",
    "\n",
    "pipeline.fit(X_train,y_train)\n",
    "predictions = pipeline.predict(X_train)\n",
    "pred(predictions,y_train)"
   ]
  },
  {
   "cell_type": "code",
   "execution_count": 35,
   "metadata": {
    "execution": {
     "iopub.execute_input": "2020-12-16T10:07:44.447649Z",
     "iopub.status.busy": "2020-12-16T10:07:44.446931Z",
     "iopub.status.idle": "2020-12-16T10:07:50.045315Z",
     "shell.execute_reply": "2020-12-16T10:07:50.044339Z"
    },
    "papermill": {
     "duration": 5.666168,
     "end_time": "2020-12-16T10:07:50.045527",
     "exception": false,
     "start_time": "2020-12-16T10:07:44.379359",
     "status": "completed"
    },
    "tags": []
   },
   "outputs": [
    {
     "name": "stdout",
     "output_type": "stream",
     "text": [
      "CONFUSION MATRIX ------->> \n",
      "col_0         0     1\n",
      "sentiment            \n",
      "0          2423   353\n",
      "1           352  2372\n",
      "\n",
      "Classification paradox :------->>\n",
      "Accuracy :-  87.18\n",
      "\n",
      "False Negative Rate :-  12.92\n",
      "\n",
      "False Postive Rate :-  12.72\n",
      "\n",
      "              precision    recall  f1-score   support\n",
      "\n",
      "           0       0.87      0.87      0.87      2776\n",
      "           1       0.87      0.87      0.87      2724\n",
      "\n",
      "    accuracy                           0.87      5500\n",
      "   macro avg       0.87      0.87      0.87      5500\n",
      "weighted avg       0.87      0.87      0.87      5500\n",
      "\n"
     ]
    }
   ],
   "source": [
    "#Result on Test Case\n",
    "predictions = pipeline.predict(X_test)\n",
    "pred(predictions,y_test)"
   ]
  },
  {
   "cell_type": "markdown",
   "metadata": {
    "papermill": {
     "duration": 0.066114,
     "end_time": "2020-12-16T10:07:50.182690",
     "exception": false,
     "start_time": "2020-12-16T10:07:50.116576",
     "status": "completed"
    },
    "tags": []
   },
   "source": [
    "### Random Forest"
   ]
  },
  {
   "cell_type": "code",
   "execution_count": 36,
   "metadata": {
    "execution": {
     "iopub.execute_input": "2020-12-16T10:07:50.326958Z",
     "iopub.status.busy": "2020-12-16T10:07:50.326152Z",
     "iopub.status.idle": "2020-12-16T10:13:10.863288Z",
     "shell.execute_reply": "2020-12-16T10:13:10.863828Z"
    },
    "papermill": {
     "duration": 320.614879,
     "end_time": "2020-12-16T10:13:10.864118",
     "exception": false,
     "start_time": "2020-12-16T10:07:50.249239",
     "status": "completed"
    },
    "tags": []
   },
   "outputs": [
    {
     "name": "stdout",
     "output_type": "stream",
     "text": [
      "CONFUSION MATRIX ------->> \n",
      "col_0         0     1\n",
      "sentiment            \n",
      "0          9724     0\n",
      "1             0  9776\n",
      "\n",
      "Classification paradox :------->>\n",
      "Accuracy :-  100.0\n",
      "\n",
      "False Negative Rate :-  0.0\n",
      "\n",
      "False Postive Rate :-  0.0\n",
      "\n",
      "              precision    recall  f1-score   support\n",
      "\n",
      "           0       1.00      1.00      1.00      9724\n",
      "           1       1.00      1.00      1.00      9776\n",
      "\n",
      "    accuracy                           1.00     19500\n",
      "   macro avg       1.00      1.00      1.00     19500\n",
      "weighted avg       1.00      1.00      1.00     19500\n",
      "\n"
     ]
    }
   ],
   "source": [
    "from sklearn.ensemble import RandomForestClassifier\n",
    "\n",
    "pipeline = Pipeline([\n",
    "    ('bow', CountVectorizer(analyzer=clean_text)),  # strings to token integer counts\n",
    "    ('tfidf', TfidfTransformer()),  # integer counts to weighted TF-IDF scores\n",
    "    ('classifier', RandomForestClassifier(n_estimators = 500)),  # train on TF-IDF vectors w/ Naive Bayes classifier\n",
    "])\n",
    "\n",
    "pipeline.fit(X_train,y_train)\n",
    "predictions = pipeline.predict(X_train)\n",
    "pred(predictions,y_train)"
   ]
  },
  {
   "cell_type": "code",
   "execution_count": 37,
   "metadata": {
    "execution": {
     "iopub.execute_input": "2020-12-16T10:13:11.017102Z",
     "iopub.status.busy": "2020-12-16T10:13:11.015678Z",
     "iopub.status.idle": "2020-12-16T10:13:20.230836Z",
     "shell.execute_reply": "2020-12-16T10:13:20.231440Z"
    },
    "papermill": {
     "duration": 9.293418,
     "end_time": "2020-12-16T10:13:20.231619",
     "exception": false,
     "start_time": "2020-12-16T10:13:10.938201",
     "status": "completed"
    },
    "tags": []
   },
   "outputs": [
    {
     "name": "stdout",
     "output_type": "stream",
     "text": [
      "CONFUSION MATRIX ------->> \n",
      "col_0         0     1\n",
      "sentiment            \n",
      "0          2382   394\n",
      "1           364  2360\n",
      "\n",
      "Classification paradox :------->>\n",
      "Accuracy :-  86.22\n",
      "\n",
      "False Negative Rate :-  13.36\n",
      "\n",
      "False Postive Rate :-  14.19\n",
      "\n",
      "              precision    recall  f1-score   support\n",
      "\n",
      "           0       0.87      0.86      0.86      2776\n",
      "           1       0.86      0.87      0.86      2724\n",
      "\n",
      "    accuracy                           0.86      5500\n",
      "   macro avg       0.86      0.86      0.86      5500\n",
      "weighted avg       0.86      0.86      0.86      5500\n",
      "\n"
     ]
    }
   ],
   "source": [
    "#Test Set Result\n",
    "predictions = pipeline.predict(X_test)\n",
    "pred(predictions,y_test)"
   ]
  },
  {
   "cell_type": "markdown",
   "metadata": {
    "papermill": {
     "duration": 0.068715,
     "end_time": "2020-12-16T10:13:20.370104",
     "exception": false,
     "start_time": "2020-12-16T10:13:20.301389",
     "status": "completed"
    },
    "tags": []
   },
   "source": [
    "## Final Model Will be Logistic Regression"
   ]
  },
  {
   "cell_type": "code",
   "execution_count": 38,
   "metadata": {
    "execution": {
     "iopub.execute_input": "2020-12-16T10:13:20.519400Z",
     "iopub.status.busy": "2020-12-16T10:13:20.518347Z",
     "iopub.status.idle": "2020-12-16T10:14:13.983833Z",
     "shell.execute_reply": "2020-12-16T10:14:13.984557Z"
    },
    "papermill": {
     "duration": 53.54536,
     "end_time": "2020-12-16T10:14:13.984749",
     "exception": false,
     "start_time": "2020-12-16T10:13:20.439389",
     "status": "completed"
    },
    "tags": []
   },
   "outputs": [],
   "source": [
    "#Saving Output\n",
    "from sklearn.linear_model import LogisticRegression\n",
    "from sklearn.pipeline import Pipeline\n",
    "\n",
    "pipeline_logit = Pipeline([\n",
    "    ('bow', CountVectorizer(analyzer=clean_text)),  # strings to token integer counts\n",
    "    ('tfidf', TfidfTransformer()),  # integer counts to weighted TF-IDF scores\n",
    "    ('classifier', LogisticRegression(random_state=101)),  # train on TF-IDF vectors w/ Naive Bayes classifier\n",
    "])\n",
    "\n",
    "pipeline_logit.fit(train['review'],train['sentiment'])\n",
    "test['sentiment'] = pipeline_logit.predict(test['review'])"
   ]
  },
  {
   "cell_type": "code",
   "execution_count": 39,
   "metadata": {
    "execution": {
     "iopub.execute_input": "2020-12-16T10:14:14.141647Z",
     "iopub.status.busy": "2020-12-16T10:14:14.139934Z",
     "iopub.status.idle": "2020-12-16T10:14:14.144904Z",
     "shell.execute_reply": "2020-12-16T10:14:14.144346Z"
    },
    "papermill": {
     "duration": 0.091613,
     "end_time": "2020-12-16T10:14:14.145032",
     "exception": false,
     "start_time": "2020-12-16T10:14:14.053419",
     "status": "completed"
    },
    "tags": []
   },
   "outputs": [
    {
     "data": {
      "text/html": [
       "<div>\n",
       "<style scoped>\n",
       "    .dataframe tbody tr th:only-of-type {\n",
       "        vertical-align: middle;\n",
       "    }\n",
       "\n",
       "    .dataframe tbody tr th {\n",
       "        vertical-align: top;\n",
       "    }\n",
       "\n",
       "    .dataframe thead th {\n",
       "        text-align: right;\n",
       "    }\n",
       "</style>\n",
       "<table border=\"1\" class=\"dataframe\">\n",
       "  <thead>\n",
       "    <tr style=\"text-align: right;\">\n",
       "      <th></th>\n",
       "      <th>id</th>\n",
       "      <th>review</th>\n",
       "      <th>sentiment</th>\n",
       "    </tr>\n",
       "  </thead>\n",
       "  <tbody>\n",
       "    <tr>\n",
       "      <th>0</th>\n",
       "      <td>12311_10</td>\n",
       "      <td>Naturally in a film who's main themes are of m...</td>\n",
       "      <td>1</td>\n",
       "    </tr>\n",
       "    <tr>\n",
       "      <th>1</th>\n",
       "      <td>8348_2</td>\n",
       "      <td>This movie is a disaster within a disaster fil...</td>\n",
       "      <td>0</td>\n",
       "    </tr>\n",
       "    <tr>\n",
       "      <th>2</th>\n",
       "      <td>5828_4</td>\n",
       "      <td>All in all, this is a movie for kids. We saw i...</td>\n",
       "      <td>1</td>\n",
       "    </tr>\n",
       "    <tr>\n",
       "      <th>3</th>\n",
       "      <td>7186_2</td>\n",
       "      <td>Afraid of the Dark left me with the impression...</td>\n",
       "      <td>1</td>\n",
       "    </tr>\n",
       "    <tr>\n",
       "      <th>4</th>\n",
       "      <td>12128_7</td>\n",
       "      <td>A very accurate depiction of small time mob li...</td>\n",
       "      <td>1</td>\n",
       "    </tr>\n",
       "  </tbody>\n",
       "</table>\n",
       "</div>"
      ],
      "text/plain": [
       "         id                                             review  sentiment\n",
       "0  12311_10  Naturally in a film who's main themes are of m...          1\n",
       "1    8348_2  This movie is a disaster within a disaster fil...          0\n",
       "2    5828_4  All in all, this is a movie for kids. We saw i...          1\n",
       "3    7186_2  Afraid of the Dark left me with the impression...          1\n",
       "4   12128_7  A very accurate depiction of small time mob li...          1"
      ]
     },
     "execution_count": 39,
     "metadata": {},
     "output_type": "execute_result"
    }
   ],
   "source": [
    "test.head(5)"
   ]
  },
  {
   "cell_type": "code",
   "execution_count": 40,
   "metadata": {
    "execution": {
     "iopub.execute_input": "2020-12-16T10:14:14.306056Z",
     "iopub.status.busy": "2020-12-16T10:14:14.304729Z",
     "iopub.status.idle": "2020-12-16T10:14:14.309625Z",
     "shell.execute_reply": "2020-12-16T10:14:14.310703Z"
    },
    "papermill": {
     "duration": 0.092622,
     "end_time": "2020-12-16T10:14:14.310979",
     "exception": false,
     "start_time": "2020-12-16T10:14:14.218357",
     "status": "completed"
    },
    "tags": []
   },
   "outputs": [
    {
     "name": "stdout",
     "output_type": "stream",
     "text": [
      "             id  sentiment\n",
      "0      12311_10          1\n",
      "1        8348_2          0\n",
      "2        5828_4          1\n",
      "3        7186_2          1\n",
      "4       12128_7          1\n",
      "...         ...        ...\n",
      "24995   2155_10          1\n",
      "24996     59_10          1\n",
      "24997    2531_1          0\n",
      "24998    7772_8          1\n",
      "24999  11465_10          1\n",
      "\n",
      "[25000 rows x 2 columns]\n"
     ]
    }
   ],
   "source": [
    "output = test[['id','sentiment']]\n",
    "print(output)"
   ]
  },
  {
   "cell_type": "markdown",
   "metadata": {
    "papermill": {
     "duration": 0.071194,
     "end_time": "2020-12-16T10:14:14.458646",
     "exception": false,
     "start_time": "2020-12-16T10:14:14.387452",
     "status": "completed"
    },
    "tags": []
   },
   "source": [
    "### Submission File"
   ]
  },
  {
   "cell_type": "code",
   "execution_count": 41,
   "metadata": {
    "execution": {
     "iopub.execute_input": "2020-12-16T10:14:14.602594Z",
     "iopub.status.busy": "2020-12-16T10:14:14.601826Z",
     "iopub.status.idle": "2020-12-16T10:14:14.606048Z",
     "shell.execute_reply": "2020-12-16T10:14:14.605342Z"
    },
    "papermill": {
     "duration": 0.077012,
     "end_time": "2020-12-16T10:14:14.606173",
     "exception": false,
     "start_time": "2020-12-16T10:14:14.529161",
     "status": "completed"
    },
    "tags": []
   },
   "outputs": [],
   "source": [
    "#output.to_csv( \"output.csv\", index=False, quoting=3 )"
   ]
  }
 ],
 "metadata": {
  "kernelspec": {
   "display_name": "Python 3",
   "language": "python",
   "name": "python3"
  },
  "language_info": {
   "codemirror_mode": {
    "name": "ipython",
    "version": 3
   },
   "file_extension": ".py",
   "mimetype": "text/x-python",
   "name": "python",
   "nbconvert_exporter": "python",
   "pygments_lexer": "ipython3",
   "version": "3.7.6"
  },
  "papermill": {
   "duration": 601.106135,
   "end_time": "2020-12-16T10:14:14.785581",
   "environment_variables": {},
   "exception": null,
   "input_path": "__notebook__.ipynb",
   "output_path": "__notebook__.ipynb",
   "parameters": {},
   "start_time": "2020-12-16T10:04:13.679446",
   "version": "2.1.0"
  }
 },
 "nbformat": 4,
 "nbformat_minor": 4
}
